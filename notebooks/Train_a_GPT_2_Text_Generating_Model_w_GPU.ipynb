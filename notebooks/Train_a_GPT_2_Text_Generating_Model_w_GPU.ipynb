{
  "nbformat": 4,
  "nbformat_minor": 0,
  "metadata": {
    "colab": {
      "name": "Train a GPT-2 Text-Generating Model w/ GPU",
      "provenance": [],
      "collapsed_sections": []
    },
    "kernelspec": {
      "name": "python3",
      "display_name": "Python 3"
    },
    "accelerator": "GPU"
  },
  "cells": [
    {
      "cell_type": "markdown",
      "metadata": {
        "id": "H7LoMj4GA4n_"
      },
      "source": [
        "#  Train a GPT-2 Text-Generating Model w/ GPU For Free \n",
        "\n",
        "by [Max Woolf](http://minimaxir.com)\n",
        "\n",
        "*Last updated: November 10th, 2019*\n",
        "\n",
        "Retrain an advanced text generating neural network on any text dataset **for free on a GPU using Collaboratory** using `gpt-2-simple`!\n",
        "\n",
        "For more about `gpt-2-simple`, you can visit [this GitHub repository](https://github.com/minimaxir/gpt-2-simple). You can also read my [blog post](https://minimaxir.com/2019/09/howto-gpt2/) for more information how to use this notebook!\n",
        "\n",
        "\n",
        "To get started:\n",
        "\n",
        "1. Copy this notebook to your Google Drive to keep it and save your changes. (File -> Save a Copy in Drive)\n",
        "2. Make sure you're running the notebook in Google Chrome.\n",
        "3. Run the cells below:\n"
      ]
    },
    {
      "cell_type": "code",
      "metadata": {
        "id": "KBkpRgBCBS2_"
      },
      "source": [
        "%tensorflow_version 2.x\n",
        "!pip install -q gpt-2-simple\n",
        "import gpt_2_simple as gpt2\n",
        "from datetime import datetime\n",
        "from google.colab import files"
      ],
      "execution_count": null,
      "outputs": []
    },
    {
      "cell_type": "markdown",
      "metadata": {
        "id": "Bj2IJLHP3KwE"
      },
      "source": [
        "## GPU\n",
        "\n",
        "Colaboratory uses either a Nvidia T4 GPU or an Nvidia K80 GPU. The T4 is slightly faster than the old K80 for training GPT-2, and has more memory allowing you to train the larger GPT-2 models and generate more text.\n",
        "\n",
        "You can verify which GPU is active by running the cell below."
      ]
    },
    {
      "cell_type": "code",
      "metadata": {
        "id": "sUmTooTW3osf",
        "colab": {
          "base_uri": "https://localhost:8080/"
        },
        "outputId": "7f6b33d2-5890-43a8-f8b0-514453a276b7"
      },
      "source": [
        "!nvidia-smi"
      ],
      "execution_count": null,
      "outputs": [
        {
          "output_type": "stream",
          "name": "stdout",
          "text": [
            "Tue Dec  7 16:52:45 2021       \n",
            "+-----------------------------------------------------------------------------+\n",
            "| NVIDIA-SMI 495.44       Driver Version: 460.32.03    CUDA Version: 11.2     |\n",
            "|-------------------------------+----------------------+----------------------+\n",
            "| GPU  Name        Persistence-M| Bus-Id        Disp.A | Volatile Uncorr. ECC |\n",
            "| Fan  Temp  Perf  Pwr:Usage/Cap|         Memory-Usage | GPU-Util  Compute M. |\n",
            "|                               |                      |               MIG M. |\n",
            "|===============================+======================+======================|\n",
            "|   0  Tesla K80           Off  | 00000000:00:04.0 Off |                    0 |\n",
            "| N/A   39C    P8    28W / 149W |      0MiB / 11441MiB |      0%      Default |\n",
            "|                               |                      |                  N/A |\n",
            "+-------------------------------+----------------------+----------------------+\n",
            "                                                                               \n",
            "+-----------------------------------------------------------------------------+\n",
            "| Processes:                                                                  |\n",
            "|  GPU   GI   CI        PID   Type   Process name                  GPU Memory |\n",
            "|        ID   ID                                                   Usage      |\n",
            "|=============================================================================|\n",
            "|  No running processes found                                                 |\n",
            "+-----------------------------------------------------------------------------+\n"
          ]
        }
      ]
    },
    {
      "cell_type": "markdown",
      "metadata": {
        "id": "0wXB05bPDYxS"
      },
      "source": [
        "## Downloading GPT-2\n",
        "\n",
        "If you're retraining a model on new text, you need to download the GPT-2 model first. \n",
        "\n",
        "There are three released sizes of GPT-2:\n",
        "\n",
        "* `124M` (default): the \"small\" model, 500MB on disk.\n",
        "* `355M`: the \"medium\" model, 1.5GB on disk.\n",
        "* `774M`: the \"large\" model, cannot currently be finetuned with Colaboratory but can be used to generate text from the pretrained model (see later in Notebook)\n",
        "* `1558M`: the \"extra large\", true model. Will not work if a K80 GPU is attached to the notebook. (like `774M`, it cannot be finetuned).\n",
        "\n",
        "Larger models have more knowledge, but take longer to finetune and longer to generate text. You can specify which base model to use by changing `model_name` in the cells below.\n",
        "\n",
        "The next cell downloads it from Google Cloud Storage and saves it in the Colaboratory VM at `/models/<model_name>`.\n",
        "\n",
        "This model isn't permanently saved in the Colaboratory VM; you'll have to redownload it if you want to retrain it at a later time."
      ]
    },
    {
      "cell_type": "code",
      "metadata": {
        "id": "P8wSlgXoDPCR",
        "colab": {
          "base_uri": "https://localhost:8080/"
        },
        "outputId": "c22c7f61-0d5d-4992-f9f5-29db4b6c203e"
      },
      "source": [
        "gpt2.download_gpt2(model_name=\"124M\")"
      ],
      "execution_count": null,
      "outputs": [
        {
          "output_type": "stream",
          "name": "stderr",
          "text": [
            "Fetching checkpoint: 1.05Mit [00:00, 408Mit/s]                                                      \n",
            "Fetching encoder.json: 1.05Mit [00:00, 7.22Mit/s]\n",
            "Fetching hparams.json: 1.05Mit [00:00, 531Mit/s]                                                    \n",
            "Fetching model.ckpt.data-00000-of-00001: 498Mit [00:10, 47.8Mit/s]                                  \n",
            "Fetching model.ckpt.index: 1.05Mit [00:00, 634Mit/s]                                                \n",
            "Fetching model.ckpt.meta: 1.05Mit [00:00, 9.81Mit/s]\n",
            "Fetching vocab.bpe: 1.05Mit [00:00, 8.68Mit/s]\n"
          ]
        }
      ]
    },
    {
      "cell_type": "markdown",
      "metadata": {
        "id": "N8KXuKWzQSsN"
      },
      "source": [
        "## Mounting Google Drive\n",
        "\n",
        "The best way to get input text to-be-trained into the Colaboratory VM, and to get the trained model *out* of Colaboratory, is to route it through Google Drive *first*.\n",
        "\n",
        "Running this cell (which will only work in Colaboratory) will mount your personal Google Drive in the VM, which later cells can use to get data in/out. (it will ask for an auth code; that auth is not saved anywhere)"
      ]
    },
    {
      "cell_type": "code",
      "metadata": {
        "id": "puq4iC6vUAHc",
        "colab": {
          "base_uri": "https://localhost:8080/"
        },
        "outputId": "a69c4faf-509b-4416-dcce-aadb80dc4870"
      },
      "source": [
        "gpt2.mount_gdrive()"
      ],
      "execution_count": null,
      "outputs": [
        {
          "output_type": "stream",
          "name": "stdout",
          "text": [
            "Drive already mounted at /content/drive; to attempt to forcibly remount, call drive.mount(\"/content/drive\", force_remount=True).\n"
          ]
        }
      ]
    },
    {
      "cell_type": "markdown",
      "metadata": {
        "id": "BT__brhBCvJu"
      },
      "source": [
        "## Uploading a Text File to be Trained to Colaboratory\n",
        "\n",
        "In the Colaboratory Notebook sidebar on the left of the screen, select *Files*. From there you can upload files:\n",
        "\n",
        "![alt text](https://i.imgur.com/TGcZT4h.png)\n",
        "\n",
        "Upload **any smaller text file**  (<10 MB) and update the file name in the cell below, then run the cell."
      ]
    },
    {
      "cell_type": "code",
      "metadata": {
        "colab": {
          "base_uri": "https://localhost:8080/"
        },
        "id": "hy6xByip2qoX",
        "outputId": "82bf98a8-0aa8-46e9-cbe9-42057bd0f8be"
      },
      "source": [
        "!wget https://raw.githubusercontent.com/karpathy/char-rnn/master/data/tinyshakespeare/input.txt -O \"shakespeare.txt\""
      ],
      "execution_count": null,
      "outputs": [
        {
          "output_type": "stream",
          "name": "stdout",
          "text": [
            "--2021-12-07 17:24:17--  https://raw.githubusercontent.com/karpathy/char-rnn/master/data/tinyshakespeare/input.txt\n",
            "Resolving raw.githubusercontent.com (raw.githubusercontent.com)... 185.199.108.133, 185.199.109.133, 185.199.110.133, ...\n",
            "Connecting to raw.githubusercontent.com (raw.githubusercontent.com)|185.199.108.133|:443... connected.\n",
            "HTTP request sent, awaiting response... 200 OK\n",
            "Length: 1115394 (1.1M) [text/plain]\n",
            "Saving to: ‘shakespeare.txt’\n",
            "\n",
            "\rshakespeare.txt       0%[                    ]       0  --.-KB/s               \rshakespeare.txt     100%[===================>]   1.06M  --.-KB/s    in 0.05s   \n",
            "\n",
            "2021-12-07 17:24:17 (20.5 MB/s) - ‘shakespeare.txt’ saved [1115394/1115394]\n",
            "\n"
          ]
        }
      ]
    },
    {
      "cell_type": "code",
      "metadata": {
        "id": "6OFnPCLADfll"
      },
      "source": [
        "file_name = \"shakespeare.txt\""
      ],
      "execution_count": null,
      "outputs": []
    },
    {
      "cell_type": "markdown",
      "metadata": {
        "id": "HeeSKtNWUedE"
      },
      "source": [
        "If your text file is larger than 10MB, it is recommended to upload that file to Google Drive first, then copy that file from Google Drive to the Colaboratory VM."
      ]
    },
    {
      "cell_type": "code",
      "metadata": {
        "id": "-Z6okFD8VKtS"
      },
      "source": [
        "#gpt2.copy_file_from_gdrive(file_name)"
      ],
      "execution_count": null,
      "outputs": []
    },
    {
      "cell_type": "markdown",
      "metadata": {
        "id": "LdpZQXknFNY3"
      },
      "source": [
        "## Finetune GPT-2\n",
        "\n",
        "The next cell will start the actual finetuning of GPT-2. It creates a persistent TensorFlow session which stores the training config, then runs the training for the specified number of `steps`. (to have the finetuning run indefinitely, set `steps = -1`)\n",
        "\n",
        "The model checkpoints will be saved in `/checkpoint/run1` by default. The checkpoints are saved every 500 steps (can be changed) and when the cell is stopped.\n",
        "\n",
        "The training might time out after 4ish hours; make sure you end training and save the results so you don't lose them!\n",
        "\n",
        "**IMPORTANT NOTE:** If you want to rerun this cell, **restart the VM first** (Runtime -> Restart Runtime). You will need to rerun imports but not recopy files.\n",
        "\n",
        "Other optional-but-helpful parameters for `gpt2.finetune`:\n",
        "\n",
        "\n",
        "*  **`restore_from`**: Set to `fresh` to start training from the base GPT-2, or set to `latest` to restart training from an existing checkpoint.\n",
        "* **`sample_every`**: Number of steps to print example output\n",
        "* **`print_every`**: Number of steps to print training progress.\n",
        "* **`learning_rate`**:  Learning rate for the training. (default `1e-4`, can lower to `1e-5` if you have <1MB input data)\n",
        "*  **`run_name`**: subfolder within `checkpoint` to save the model. This is useful if you want to work with multiple models (will also need to specify  `run_name` when loading the model)\n",
        "* **`overwrite`**: Set to `True` if you want to continue finetuning an existing model (w/ `restore_from='latest'`) without creating duplicate copies. "
      ]
    },
    {
      "cell_type": "code",
      "metadata": {
        "id": "aeXshJM-Cuaf",
        "colab": {
          "base_uri": "https://localhost:8080/"
        },
        "outputId": "5bdef4cc-1fca-47c5-ca4a-c8f5f89c4957"
      },
      "source": [
        "sess = gpt2.start_tf_sess()\n",
        "\n",
        "gpt2.finetune(sess,\n",
        "              dataset=file_name,\n",
        "              model_name='124M',\n",
        "              steps=1000,\n",
        "              restore_from='fresh',\n",
        "              run_name='run1',\n",
        "              print_every=10,\n",
        "              sample_every=200,\n",
        "              save_every=500\n",
        "              )"
      ],
      "execution_count": null,
      "outputs": [
        {
          "output_type": "stream",
          "name": "stdout",
          "text": [
            "Loading checkpoint models/124M/model.ckpt\n",
            "INFO:tensorflow:Restoring parameters from models/124M/model.ckpt\n",
            "Loading dataset...\n"
          ]
        },
        {
          "output_type": "stream",
          "name": "stderr",
          "text": [
            "100%|██████████| 1/1 [00:02<00:00,  2.25s/it]\n"
          ]
        },
        {
          "output_type": "stream",
          "name": "stdout",
          "text": [
            "dataset has 338025 tokens\n",
            "Training...\n",
            "[10 | 46.60] loss=3.84 avg=3.84\n",
            "[20 | 88.14] loss=3.43 avg=3.63\n",
            "[30 | 130.02] loss=3.47 avg=3.58\n",
            "[40 | 171.79] loss=3.49 avg=3.56\n",
            "[50 | 213.50] loss=3.37 avg=3.52\n",
            "[60 | 255.17] loss=3.35 avg=3.49\n",
            "[70 | 296.90] loss=3.33 avg=3.47\n",
            "[80 | 338.57] loss=3.19 avg=3.43\n",
            "[90 | 380.26] loss=3.17 avg=3.40\n",
            "[100 | 422.00] loss=3.20 avg=3.38\n",
            "[110 | 463.69] loss=2.98 avg=3.34\n",
            "[120 | 505.12] loss=3.13 avg=3.32\n",
            "[130 | 546.58] loss=2.97 avg=3.29\n",
            "[140 | 588.04] loss=2.95 avg=3.27\n",
            "[150 | 629.31] loss=3.21 avg=3.26\n",
            "[160 | 670.89] loss=3.07 avg=3.25\n",
            "[170 | 712.42] loss=2.98 avg=3.23\n",
            "[180 | 754.04] loss=3.03 avg=3.22\n",
            "[190 | 795.69] loss=3.00 avg=3.21\n",
            "[200 | 837.33] loss=3.15 avg=3.21\n",
            "======== SAMPLE 1 ========\n",
            " he'd be revenged in our hands; and thou, my lord, a fearful murderer, thy duty is to help him.\n",
            "\n",
            "Lord?\n",
            "\n",
            "KING RICHARD II:\n",
            "What then, then, shall I do to the king of this world?\n",
            "O wretched, wretched, wretched slave, that, I pray you, thou wilt\n",
            "be here with me! Thou art my father, my sovereign.\n",
            "\n",
            "GLOUCESTER:\n",
            "\n",
            "First Servant:\n",
            "I am glad to hear that all. Sir, the people have a good deal\n",
            "to do with our king; yet they do not speak of him: I'll\n",
            "make him prisoner to their hatred till I can speak\n",
            "more.\n",
            "\n",
            "Second Servant:\n",
            "The people do not speak: and, if they do,\n",
            "the king is in a perpetual rage.\n",
            "\n",
            "GLOUCESTER:\n",
            "And here lies that raging anger.\n",
            "\n",
            "First Servant:\n",
            "Ay, this is the power, if thy duty be to\n",
            "me,\n",
            "I would aught but speak. I hope thou shalt\n",
            "speak more: but be thou ignorant, thou art\n",
            "a slave to the people. You are not\n",
            "a citizen of this land; and I warrant you\n",
            "that I speak for the people.\n",
            "\n",
            "GLOUCESTER:\n",
            "Thou hast no cause to talk,\n",
            "not that I am ignorant of that.\n",
            "\n",
            "Second Servant:\n",
            "And, by the people,\n",
            "if not 'tis your fault.\n",
            "\n",
            "KING RICHARD II:\n",
            "So they do\n",
            "and this is their custom:\n",
            "What we here have done, we all have done.\n",
            "This is our fault: this is thy fault,\n",
            "which, being but a mark of our love, we will\n",
            "have to speak of.\n",
            "\n",
            "Second Servant:\n",
            "Why doth our king like his people so?\n",
            "I know no other reason why he will not like\n",
            "these people.\n",
            "\n",
            "KING RICHARD II:\n",
            "What say you? and what are you?\n",
            "\n",
            "Lord:\n",
            "Sir, if your lordship are not in Bohemia this\n",
            "day, then I'll lie with myself this afternoon;\n",
            "I hope you will do well in this.\n",
            "\n",
            "GLOUCESTER:\n",
            "It would be as noble a lie.\n",
            "\n",
            "KING RICHARD II:\n",
            "You speak a lie too noble and noble a\n",
            "lie; a lie, the worst of our lies; and\n",
            "I swear if I say so, they shall not be ashamed\n",
            "of that. I am so ignorant of what I will;\n",
            "not one man but I swear to my sovereign he knows\n",
            "that this night my king is here: he lies here,\n",
            "on his way.\n",
            "\n",
            "Second Servant:\n",
            "What say you? do not go.\n",
            "\n",
            "KING RICHARD II:\n",
            "I'll go, if it seem fit.\n",
            "\n",
            "First Servant:\n",
            "'Tis a sin; and I do solemnly swear my right\n",
            "to this alliance with their king lies. I lie to this king;\n",
            "I'll lie to him by his honest word; and, for the\n",
            "burthen of my conscience, I will prove\n",
            "him of all dishonour.\n",
            "\n",
            "GLOUCESTER:\n",
            "Come not forward so easily.\n",
            "\n",
            "Second Servant:\n",
            "We have done all that we can do but,\n",
            "in truth, to speak for the people: and therefore we\n",
            "will not be in Bohemia any time.\n",
            "\n",
            "KING RICHARD II:\n",
            "You swear to obey to their will.\n",
            "\n",
            "Lord:\n",
            "Ay, swear on for me.\n",
            "\n",
            "GLOUCESTER:\n",
            "I fear they shall have the king to prove himself.\n",
            "\n",
            "KING RICHARD II:\n",
            "I am told many do swear with me,\n",
            "and many will they do unto their king,\n",
            "though they are not yet of Bohemia.\n",
            "\n",
            "GLOUCESTER:\n",
            "O, sir!\n",
            "\n",
            "KING RICHARD II:\n",
            "And I think that this oath is as wise for the king's\n",
            "being for his people as oath to lie and\n",
            "to the people!\n",
            "\n",
            "First Servant:\n",
            "Well, 'tis a silly oath; but not like it\n",
            "as a wise oath to lie: 'tis a very wise\n",
            " oath.\n",
            "\n",
            "Second Servant:\n",
            "I do swear, sir, and that oath is not only\n",
            "that of your honour, that you are the son of a\n",
            "king, or that you are your father.\n",
            "\n",
            "GLOUCESTER:\n",
            "Is not your father, or your father's son?\n",
            "\n",
            "Second Servant:\n",
            "Your father, my lord.\n",
            "\n",
            "KING RICHARD II:\n",
            "You are the son of Bohemia?\n",
            "\n",
            "Second Servant:\n",
            "I am your father, if you be that.\n",
            "\n",
            "KING RICHARD II:\n",
            "Why do we swear?\n",
            "\n",
            "GLOUC\n",
            "\n",
            "[210 | 899.85] loss=2.75 avg=3.18\n",
            "[220 | 941.51] loss=2.83 avg=3.16\n",
            "[230 | 983.14] loss=2.70 avg=3.14\n",
            "[240 | 1024.80] loss=2.88 avg=3.13\n",
            "[250 | 1066.47] loss=2.76 avg=3.11\n",
            "[260 | 1108.09] loss=2.82 avg=3.10\n",
            "[270 | 1149.72] loss=2.51 avg=3.07\n",
            "[280 | 1191.33] loss=2.65 avg=3.06\n",
            "[290 | 1232.94] loss=2.68 avg=3.04\n",
            "[300 | 1274.51] loss=2.68 avg=3.03\n",
            "[310 | 1316.11] loss=2.54 avg=3.01\n",
            "[320 | 1357.72] loss=2.48 avg=2.99\n",
            "[330 | 1399.32] loss=2.77 avg=2.98\n",
            "[340 | 1440.94] loss=2.44 avg=2.96\n",
            "[350 | 1482.54] loss=2.07 avg=2.93\n",
            "[360 | 1524.13] loss=2.08 avg=2.91\n",
            "[370 | 1565.73] loss=2.50 avg=2.89\n",
            "[380 | 1607.34] loss=2.26 avg=2.87\n",
            "[390 | 1648.91] loss=2.13 avg=2.85\n",
            "[400 | 1690.51] loss=2.06 avg=2.83\n",
            "======== SAMPLE 1 ========\n",
            " ANION:\n",
            "\n",
            "QUEEN MARCIUS:\n",
            "In this you speak a little, though not so much as to bring up\n",
            "the matter.\n",
            "\n",
            "ALONSO:\n",
            "Your reason?\n",
            "\n",
            "LUCIO:\n",
            "Why, my reason being a thing unprofitable to men:\n",
            "My noble father made for Naples; 'tis but now out in\n",
            "town; is it not he, that with a little business with\n",
            "our country hath moved it to call itself in?\n",
            "\n",
            "ALONSO:\n",
            "His own house! why, as my father had his own;\n",
            "in which name is it my place?\n",
            "\n",
            "LUCIO:\n",
            "To take his word of Edward's overthrow.\n",
            "\n",
            "ALONSO:\n",
            "And so it stands, so stands it.\n",
            "\n",
            "QUEEN MARCIUS:\n",
            "I fear not my father; he's gone; and for the time being\n",
            "speak, I fear, contempt between the house of Marcius and\n",
            "our friends, unruly and disorderly.\n",
            "\n",
            "BIONDELLO:\n",
            "I pray you, sir, let's away: let's away,\n",
            "and go to dinner.\n",
            "\n",
            "QUEEN MARCIUS:\n",
            "Pray you, be not wary.\n",
            "\n",
            "LUCIO:\n",
            "No; I pray you, sir; consider my father with your grace.\n",
            "\n",
            "BIONDELLO:\n",
            "How fares your grace?\n",
            "\n",
            "LUCIO:\n",
            "Not very good; for they accuse no man like one.\n",
            "\n",
            "QUEEN MARCIUS:\n",
            "Go, get away.\n",
            "\n",
            "EXET:\n",
            "Come, sir: come, help you home. What, what, what, what!\n",
            "\n",
            "EXET:\n",
            "What, what, what, what! O wretched house, O wretched house! O wretched\n",
            "house!\n",
            "\n",
            "BIONDELLO:\n",
            "Let us go, see, let us go:\n",
            "\n",
            "QUEEN MARCIUS:\n",
            "Pray you, let's away.\n",
            "Come, get away too; look about to see\n",
            "our father again.\n",
            "\n",
            "EXET:\n",
            "Help, help!\n",
            "\n",
            "PARIS:\n",
            "\n",
            "QUEEN MARCIUS:\n",
            "Help, help!\n",
            "\n",
            "EXET:\n",
            "Help, help!\n",
            "\n",
            "PARIS:\n",
            "Help, help!\n",
            "\n",
            "PARIS:\n",
            "The war's ended:\n",
            "Beseech you, let it go. What, will I be brought in?\n",
            "What, will I be brought in?\n",
            "\n",
            "PARIS:\n",
            "You will obey me: you will be admitted,--\n",
            "\n",
            "PARIS:\n",
            "How is it, my lord, you are too soon come?\n",
            "\n",
            "EXET:\n",
            "You must not be late: O, you are too late.\n",
            "\n",
            "PAULINA:\n",
            "O, it is done: but must be kept a mystery.\n",
            "\n",
            "KATHARINA:\n",
            "Is't, it is!\n",
            "\n",
            "EXET:\n",
            "There come a time, mistress Katharina, when you cannot stand us.\n",
            "\n",
            "PAULINA:\n",
            "How? it is!\n",
            "\n",
            "KATHARINA:\n",
            "It is too late:\n",
            "Too late! he looks on with sad eyes.\n",
            "Then, for you, there comes another: here comes her husband,\n",
            "Who was wont when he was young to take the bride\n",
            "And come to her aid one by one.\n",
            "\n",
            "PAULINA:\n",
            "It is a happy custom among us, and one\n",
            "That we learn of at Vienna.\n",
            "\n",
            "KATHARINA:\n",
            "Come, come, come, we will straight to it, when we find it.\n",
            "\n",
            "EXET:\n",
            "It is done, it's done, it's done!\n",
            "You are welcomed home, nurse, welcome home!\n",
            "\n",
            "CAMILLO:\n",
            "Is this the Signior Gaunt of the Prince of Wales?\n",
            "\n",
            "GREMIO:\n",
            "He is the duke: he was a prisoner then;\n",
            "But come, get you home.\n",
            "\n",
            "CAMILLO:\n",
            "Gaunt? then shall my sweet son, who is grown too\n",
            "lull, come along with me. A little while more:\n",
            "Come, you are welcome, good shepherd, have a minute.\n",
            "\n",
            "GREMIO:\n",
            "No more, but go, get you home.\n",
            "How long have we stood by? what say you to the new\n",
            "prince? whom we look to in this new-made estate?\n",
            "\n",
            "CAMILLO:\n",
            "I am glad of him; he is no stranger to me:\n",
            "His office here is to instruct his officers,\n",
            "But yet his fee is to subscribe the revenue\n",
            "Which the revenue-clients are paying him!\n",
            "\n",
            "GREMIO:\n",
            "He is very welcome, a man of such credit among his peers.\n",
            "\n",
            "CAMILLO:\n",
            "Well, I do like him. The prince is gone: I come, I come;\n",
            "\n",
            "[410 | 1751.58] loss=2.38 avg=2.81\n",
            "[420 | 1793.21] loss=2.10 avg=2.79\n",
            "[430 | 1834.79] loss=2.50 avg=2.78\n",
            "[440 | 1876.41] loss=1.81 avg=2.76\n",
            "[450 | 1918.03] loss=1.93 avg=2.73\n",
            "[460 | 1959.60] loss=2.13 avg=2.72\n",
            "[470 | 2001.17] loss=1.79 avg=2.69\n",
            "[480 | 2042.75] loss=2.08 avg=2.68\n",
            "[490 | 2084.32] loss=2.09 avg=2.66\n",
            "[500 | 2125.91] loss=1.76 avg=2.64\n",
            "Saving checkpoint/run1/model-500\n",
            "[510 | 2170.45] loss=1.29 avg=2.61\n",
            "[520 | 2212.08] loss=1.53 avg=2.58\n",
            "[530 | 2253.73] loss=1.85 avg=2.56\n",
            "[540 | 2295.37] loss=1.72 avg=2.54\n",
            "[550 | 2337.03] loss=1.72 avg=2.52\n",
            "[560 | 2378.69] loss=1.32 avg=2.49\n",
            "[570 | 2420.28] loss=1.56 avg=2.47\n",
            "[580 | 2461.94] loss=1.29 avg=2.45\n",
            "[590 | 2503.60] loss=1.27 avg=2.42\n",
            "[600 | 2545.26] loss=1.42 avg=2.40\n",
            "======== SAMPLE 1 ========\n",
            " friend is coming, which very near being come, I mean on a date of such brief continuance as this\n",
            "was bestow'd upon her youth.\n",
            "\n",
            "CAMILLO:\n",
            "Pardon me, sir, I have fit you to come by your request; and would to seek your own pleasure\n",
            "which way the horse shoulder was moved.\n",
            "\n",
            "MARIANA:\n",
            "That's right, pray my lord that I may get you along with\n",
            "me.\n",
            "\n",
            "CAMILLO:\n",
            "Now then, sir, I think you'll find Mariana\n",
            "well in her latter youth. She will, I see, go\n",
            "fair with you.\n",
            "\n",
            "DUKE VINCENTIO:\n",
            "I do believe her.\n",
            "\n",
            "MARIANA:\n",
            "Well, I'll betide her. What then?\n",
            "\n",
            "CORIOLANUS:\n",
            "You shall go with me, Camillo, to this gentleman\n",
            "Bretagne.\n",
            "\n",
            "MARIANA:\n",
            "I pray thee, tell him that these greetings to\n",
            "you are indeed wonderful sights!\n",
            "\n",
            "CORIOLANUS:\n",
            "And very pleasant!\n",
            "\n",
            "MARIANA:\n",
            "Very true.\n",
            "\n",
            "CORIOLANUS:\n",
            "Do not miss this sight: the very bosom of\n",
            "your confederate, toward the rotten heart of the\n",
            "executor. Come, gentlemen, prepare to clap:\n",
            "but first let us all take our way to his bosom,\n",
            "to hear this monument to his great nature laid\n",
            "down by the late Coriolanus: and let them assemble\n",
            "at the palace gate for a very loud look-back.\n",
            "\n",
            "VOLUMNIA:\n",
            "Now, sir, to signify our thanks, and pray\n",
            "Brother Vincentio, to-morrow, before he dies,\n",
            "We shall not stand here and still have his 't.'\n",
            "\n",
            "CORIOLANUS:\n",
            "How, Mariana, do you comfort your eyes\n",
            "With these close attention pictures?\n",
            "\n",
            "VOLUMNIA:\n",
            "I know them well.\n",
            "\n",
            "CORIOLANUS:\n",
            "Fetch hither these,\n",
            "To put your feasting-vit into the house of Gremio.\n",
            "\n",
            "VOLUMNIA:\n",
            "At Elyse's, sir.\n",
            "\n",
            "CORIOLANUS:\n",
            "And this? what, look here, as if it were your turn?\n",
            "\n",
            "VOLUMNIA:\n",
            "Indeed, if it were your turn, I would fetch along.\n",
            "\n",
            "CORIOLANUS:\n",
            "'Tis not my turn.\n",
            "If that thy hand were as my hand, thou hast left me\n",
            "A dozen of suckling babies to make our table;\n",
            "And I have got my hand of nothing.\n",
            "\n",
            "VOLUMNIA:\n",
            "Tush, thou liest, traitor!\n",
            "\n",
            "CORIOLANUS:\n",
            "Nay, but I'll get the ballpture of the table;\n",
            "For what's in a drawer is not in an\n",
            "ice cream maker? Thou musta been given,--as one so free\n",
            "from the habit of thieves--thy hand; thy hand of\n",
            "things; I have got no better than that.\n",
            "This is it, this is it, this is it.\n",
            "This is it yet! O I would my bones were pound'd\n",
            "with strength!\n",
            "\n",
            "VOLUMNIA:\n",
            "And my joints shook with a master's touch!\n",
            "\n",
            "CORIOLANUS:\n",
            "Why, is it not your turn?\n",
            "\n",
            "VOLUMNIA:\n",
            "I do wish it, but that the desire of my soul\n",
            "Might be denied thy entrance.\n",
            "\n",
            "CORIOLANUS:\n",
            "Away with it already; let's to the way.\n",
            "\n",
            "VOLUMNIA:\n",
            "Where is Romeo?\n",
            "\n",
            "CORIOLANUS:\n",
            "Here, on the market-place steps. Stand up:\n",
            "Open up the door; my mistress here all alone:\n",
            "We'll proceed in, or into, this gentleman's house.\n",
            "\n",
            "VOLUMNIA:\n",
            "There!\n",
            "\n",
            "CORIOLANUS:\n",
            "O, be gone, traitor!\n",
            "\n",
            "CORIOLANUS:\n",
            "What, are you all abettors?\n",
            "\n",
            "VOLUMNIA:\n",
            "Nay, good, be wary of those that bear witness to\n",
            "thy heinous deed: you may pass thanks.\n",
            "\n",
            "CORIOLANUS:\n",
            "This gentleman here is the sister of\n",
            "A Lucentio de la Salle, whom, I think,\n",
            "therefore sister, of the noble Coriolanus,\n",
            "Commands adhering to your highness' bed:\n",
            "A fact which I will expostulate for thee\n",
            "and for my poor house. I pray you, wife, give me a name\n",
            "for these miseries:--Bestirius, son, bestir I have.\n",
            "\n",
            "VOLUMNIA:\n",
            "Romeo!\n",
            "Let me have\n",
            "\n",
            "[610 | 2606.35] loss=1.19 avg=2.37\n",
            "[620 | 2648.04] loss=1.39 avg=2.35\n",
            "[630 | 2689.70] loss=1.54 avg=2.33\n",
            "[640 | 2731.35] loss=1.04 avg=2.31\n",
            "[650 | 2773.04] loss=1.26 avg=2.28\n",
            "[660 | 2814.71] loss=1.14 avg=2.26\n",
            "[670 | 2856.39] loss=1.29 avg=2.24\n",
            "[680 | 2898.01] loss=0.97 avg=2.21\n",
            "[690 | 2939.67] loss=1.11 avg=2.19\n",
            "[700 | 2981.29] loss=0.95 avg=2.17\n",
            "[710 | 3022.91] loss=1.18 avg=2.15\n",
            "[720 | 3064.53] loss=1.09 avg=2.13\n",
            "[730 | 3106.15] loss=0.94 avg=2.11\n",
            "[740 | 3147.77] loss=1.09 avg=2.09\n",
            "[750 | 3189.39] loss=0.93 avg=2.06\n",
            "[760 | 3230.98] loss=1.05 avg=2.05\n",
            "[770 | 3272.57] loss=0.96 avg=2.03\n",
            "[780 | 3314.17] loss=0.80 avg=2.00\n",
            "[790 | 3355.80] loss=0.63 avg=1.98\n",
            "[800 | 3397.42] loss=0.70 avg=1.95\n",
            "======== SAMPLE 1 ========\n",
            "\n",
            "In this sense, the noble duke, I think, is more noble and more royal than the duke the Burgundian, the Duke of York, the queen;\n",
            "For, on a moorer account, he is more humble and more noble.\n",
            "\n",
            "LADY CAPULET:\n",
            "And more gracious, too humble and humble indeed!\n",
            "But noble is too humble and too noble indeed!\n",
            "\n",
            "Nurse:\n",
            "As the duke the black muckraker the white,\n",
            "As the father to the black muckraker the son,\n",
            "The queen too, the father of all,\n",
            "Bishop of Paris! therefore, in this brief report,\n",
            "Marry please your queen, I seal it with a sheet\n",
            "A herald's letter from you and bid your majesty\n",
            "Open it and give it the queen your hands,\n",
            "A little grace for her to play with and a word\n",
            "To counsel her concern'd. Let her brotherly love\n",
            "Till she do open it and let her brothers love;\n",
            "And let hers be blushing and half-shouting tears,\n",
            "When she does call and letters and good prayers;\n",
            "When, in prayers and good reasons, she says,\n",
            "My father the Montague was a villain;\n",
            "And then she says,\n",
            "My brother the queen too a villain,\n",
            "A trickster, with a cunning circle in her hair,\n",
            "A serpent, having some intention in her!\n",
            "\n",
            "CAPULET:\n",
            "'Twill I call them, although they seem to me\n",
            "False beauties to hide their true meaning.\n",
            "\n",
            "Nurse:\n",
            "O Doricles,\n",
            "Though my venom may blind you, yet I keep on thee.\n",
            "\n",
            "CAPULET:\n",
            "O sweet aunt! O Doricles, I have kept on thee\n",
            "For ever, some seven years; and, although\n",
            "I bite the devil, yet I could kill thee dead.\n",
            "\n",
            "Nurse:\n",
            "But, in God's name, be not so brief!\n",
            "\n",
            "CAPULET:\n",
            "Farewell, sweet cousin. O, I pray thee,\n",
            "Let's hear the resounding resounding.\n",
            "\n",
            "LADY CAPULET:\n",
            "Not a word.\n",
            "\n",
            "CAPULET:\n",
            "Why, madam,\n",
            "Are not our eyes the friend of our friend,\n",
            "Revocable and unable to do good\n",
            "? Our ears injured and not able to hear\n",
            "Her counsel, nor her counsel not perform'd\n",
            "How I shall answer her.\n",
            "\n",
            "LADY CAPULET:\n",
            "O, no more!\n",
            "Our tongues are separated, yet we can do good\n",
            "And say the same. O, her counsel!\n",
            "\n",
            "CAPULET:\n",
            "Revoke these tongues, lest she speak again,\n",
            "Revoked all them that have done good\n",
            "And do answer her any harm.\n",
            "\n",
            "LADY CAPULET:\n",
            "No more!\n",
            "\n",
            "CAPULET:\n",
            "Revoke these tongues, lest she speak again,\n",
            "Revoked all these them that have done good\n",
            "And do right; condemn now all them that have done good\n",
            "And then right again. O that her counsel were able\n",
            "To do wrong and teach wrong.\n",
            "\n",
            "LADY CAPULET:\n",
            "This is all: I cannot speak to her;\n",
            "I cannot weep, nor read, nor speak;\n",
            "I cannot mend; I could bite and fondly lick\n",
            "My lips, yet breathed not one word: this is a woman;\n",
            "I do speak and weep, and this woman cannot speak:\n",
            "I will speak to her and she will weep,\n",
            "And so shall lose her counsel.\n",
            "\n",
            "CAPULET:\n",
            "I'll take leave and cure her of that:\n",
            "Nay, what leave shall I take and cure her,\n",
            "For she is venomous to me?\n",
            "\n",
            "LADY CAPULET:\n",
            "No, madam.\n",
            "\n",
            "CAPULET:\n",
            "Madam,\n",
            "I do well believe you.\n",
            "\n",
            "LADY CAPULET:\n",
            "Madam,\n",
            "Go to your brother's house.\n",
            "\n",
            "CAPULET:\n",
            "He's here in kindness; go you unto him,\n",
            "And kiss his hand.\n",
            "\n",
            "LADY CAPULET:\n",
            "This is a gentleman like yourself,\n",
            "Renowned for his holiness, and himself\n",
            "Forbids to go to your grace.\n",
            "\n",
            "CAPULET:\n",
            "Nay, you shall not suffer your grace to do't:\n",
            "Why, you are not welcome here for her sake,\n",
            "Unless you give consent to go.\n",
            "\n",
            "LADY CAPULET:\n",
            "Thus saith the good o' the lord:\n",
            "Thus hath the good o' the good tamed the mad;\n",
            "This is it, such lenity to free,\n",
            "As agreeing to Troy makes to noble Clarence.\n",
            "\n",
            "CAPULET:\n",
            "What, to girdle thee?\n",
            "\n",
            "LADY CAPULET:\n",
            "This,\n",
            "\n",
            "[810 | 3458.63] loss=0.85 avg=1.93\n",
            "[820 | 3500.29] loss=0.99 avg=1.92\n",
            "[830 | 3541.96] loss=0.33 avg=1.89\n",
            "[840 | 3583.64] loss=0.84 avg=1.87\n",
            "[850 | 3625.26] loss=0.82 avg=1.85\n",
            "[860 | 3666.88] loss=0.32 avg=1.83\n",
            "[870 | 3708.47] loss=0.57 avg=1.80\n",
            "[880 | 3750.07] loss=0.49 avg=1.78\n",
            "[890 | 3791.66] loss=0.50 avg=1.76\n",
            "[900 | 3833.25] loss=0.58 avg=1.74\n",
            "[910 | 3874.83] loss=0.46 avg=1.72\n",
            "[920 | 3916.39] loss=0.46 avg=1.70\n",
            "[930 | 3957.95] loss=0.54 avg=1.68\n",
            "[940 | 3999.57] loss=0.52 avg=1.66\n",
            "[950 | 4041.19] loss=0.80 avg=1.65\n",
            "[960 | 4082.89] loss=0.34 avg=1.63\n",
            "[970 | 4124.55] loss=0.37 avg=1.61\n",
            "[980 | 4166.23] loss=0.31 avg=1.58\n",
            "[990 | 4207.86] loss=0.40 avg=1.57\n",
            "[1000 | 4249.49] loss=0.42 avg=1.55\n",
            "Saving checkpoint/run1/model-1000\n",
            "WARNING:tensorflow:From /usr/local/lib/python3.7/dist-packages/tensorflow/python/training/saver.py:1058: remove_checkpoint (from tensorflow.python.training.checkpoint_management) is deprecated and will be removed in a future version.\n",
            "Instructions for updating:\n",
            "Use standard file APIs to delete files with this prefix.\n"
          ]
        }
      ]
    },
    {
      "cell_type": "markdown",
      "metadata": {
        "id": "IXSuTNERaw6K"
      },
      "source": [
        "After the model is trained, you can copy the checkpoint folder to your own Google Drive.\n",
        "\n",
        "If you want to download it to your personal computer, it's strongly recommended you copy it there first, then download from Google Drive. The checkpoint folder is copied as a `.rar` compressed file; you can download it and uncompress it locally."
      ]
    },
    {
      "cell_type": "code",
      "metadata": {
        "id": "VHdTL8NDbAh3"
      },
      "source": [
        "gpt2.copy_checkpoint_to_gdrive(run_name='run1')"
      ],
      "execution_count": null,
      "outputs": []
    },
    {
      "cell_type": "markdown",
      "metadata": {
        "id": "qQJgV_b4bmzd"
      },
      "source": [
        "You're done! Feel free to go to the **Generate Text From The Trained Model** section to generate text based on your retrained model."
      ]
    },
    {
      "cell_type": "markdown",
      "metadata": {
        "id": "pel-uBULXO2L"
      },
      "source": [
        "## Load a Trained Model Checkpoint\n",
        "\n",
        "Running the next cell will copy the `.rar` checkpoint file from your Google Drive into the Colaboratory VM."
      ]
    },
    {
      "cell_type": "code",
      "metadata": {
        "id": "DCcx5u7sbPTD"
      },
      "source": [
        "# gpt2.copy_checkpoint_from_gdrive(run_name='run1')"
      ],
      "execution_count": null,
      "outputs": []
    },
    {
      "cell_type": "markdown",
      "metadata": {
        "id": "RTa6zf3e_9gV"
      },
      "source": [
        "The next cell will allow you to load the retrained model checkpoint + metadata necessary to generate text.\n",
        "\n",
        "**IMPORTANT NOTE:** If you want to rerun this cell, **restart the VM first** (Runtime -> Restart Runtime). You will need to rerun imports but not recopy files."
      ]
    },
    {
      "cell_type": "code",
      "metadata": {
        "id": "-fxL77nvAMAX",
        "colab": {
          "base_uri": "https://localhost:8080/",
          "height": 1000
        },
        "outputId": "91787292-942c-4be6-9caa-5999e66ce457"
      },
      "source": [
        "sess = gpt2.start_tf_sess()\n",
        "gpt2.load_gpt2(sess, run_name='run1', reuse=True)"
      ],
      "execution_count": null,
      "outputs": [
        {
          "output_type": "stream",
          "name": "stdout",
          "text": [
            "Loading checkpoint checkpoint/run1/model-1000\n",
            "INFO:tensorflow:Restoring parameters from checkpoint/run1/model-1000\n"
          ]
        },
        {
          "output_type": "error",
          "ename": "NotFoundError",
          "evalue": "ignored",
          "traceback": [
            "\u001b[0;31m---------------------------------------------------------------------------\u001b[0m",
            "\u001b[0;31mNotFoundError\u001b[0m                             Traceback (most recent call last)",
            "\u001b[0;32m/usr/local/lib/python3.7/dist-packages/tensorflow/python/client/session.py\u001b[0m in \u001b[0;36m_do_call\u001b[0;34m(self, fn, *args)\u001b[0m\n\u001b[1;32m   1379\u001b[0m     \u001b[0;32mtry\u001b[0m\u001b[0;34m:\u001b[0m\u001b[0;34m\u001b[0m\u001b[0;34m\u001b[0m\u001b[0m\n\u001b[0;32m-> 1380\u001b[0;31m       \u001b[0;32mreturn\u001b[0m \u001b[0mfn\u001b[0m\u001b[0;34m(\u001b[0m\u001b[0;34m*\u001b[0m\u001b[0margs\u001b[0m\u001b[0;34m)\u001b[0m\u001b[0;34m\u001b[0m\u001b[0;34m\u001b[0m\u001b[0m\n\u001b[0m\u001b[1;32m   1381\u001b[0m     \u001b[0;32mexcept\u001b[0m \u001b[0merrors\u001b[0m\u001b[0;34m.\u001b[0m\u001b[0mOpError\u001b[0m \u001b[0;32mas\u001b[0m \u001b[0me\u001b[0m\u001b[0;34m:\u001b[0m\u001b[0;34m\u001b[0m\u001b[0;34m\u001b[0m\u001b[0m\n",
            "\u001b[0;32m/usr/local/lib/python3.7/dist-packages/tensorflow/python/client/session.py\u001b[0m in \u001b[0;36m_run_fn\u001b[0;34m(feed_dict, fetch_list, target_list, options, run_metadata)\u001b[0m\n\u001b[1;32m   1363\u001b[0m       return self._call_tf_sessionrun(options, feed_dict, fetch_list,\n\u001b[0;32m-> 1364\u001b[0;31m                                       target_list, run_metadata)\n\u001b[0m\u001b[1;32m   1365\u001b[0m \u001b[0;34m\u001b[0m\u001b[0m\n",
            "\u001b[0;32m/usr/local/lib/python3.7/dist-packages/tensorflow/python/client/session.py\u001b[0m in \u001b[0;36m_call_tf_sessionrun\u001b[0;34m(self, options, feed_dict, fetch_list, target_list, run_metadata)\u001b[0m\n\u001b[1;32m   1457\u001b[0m                                             \u001b[0mfetch_list\u001b[0m\u001b[0;34m,\u001b[0m \u001b[0mtarget_list\u001b[0m\u001b[0;34m,\u001b[0m\u001b[0;34m\u001b[0m\u001b[0;34m\u001b[0m\u001b[0m\n\u001b[0;32m-> 1458\u001b[0;31m                                             run_metadata)\n\u001b[0m\u001b[1;32m   1459\u001b[0m \u001b[0;34m\u001b[0m\u001b[0m\n",
            "\u001b[0;31mNotFoundError\u001b[0m: 2 root error(s) found.\n  (0) NOT_FOUND: Key Variable not found in checkpoint\n\t [[{{node save_1/RestoreV2}}]]\n\t [[save_1/RestoreV2/_225]]\n  (1) NOT_FOUND: Key Variable not found in checkpoint\n\t [[{{node save_1/RestoreV2}}]]\n0 successful operations.\n0 derived errors ignored.",
            "\nDuring handling of the above exception, another exception occurred:\n",
            "\u001b[0;31mNotFoundError\u001b[0m                             Traceback (most recent call last)",
            "\u001b[0;32m/usr/local/lib/python3.7/dist-packages/tensorflow/python/training/saver.py\u001b[0m in \u001b[0;36mrestore\u001b[0;34m(self, sess, save_path)\u001b[0m\n\u001b[1;32m   1404\u001b[0m         sess.run(self.saver_def.restore_op_name,\n\u001b[0;32m-> 1405\u001b[0;31m                  {self.saver_def.filename_tensor_name: save_path})\n\u001b[0m\u001b[1;32m   1406\u001b[0m     \u001b[0;32mexcept\u001b[0m \u001b[0merrors\u001b[0m\u001b[0;34m.\u001b[0m\u001b[0mNotFoundError\u001b[0m \u001b[0;32mas\u001b[0m \u001b[0merr\u001b[0m\u001b[0;34m:\u001b[0m\u001b[0;34m\u001b[0m\u001b[0;34m\u001b[0m\u001b[0m\n",
            "\u001b[0;32m/usr/local/lib/python3.7/dist-packages/tensorflow/python/client/session.py\u001b[0m in \u001b[0;36mrun\u001b[0;34m(self, fetches, feed_dict, options, run_metadata)\u001b[0m\n\u001b[1;32m    970\u001b[0m       result = self._run(None, fetches, feed_dict, options_ptr,\n\u001b[0;32m--> 971\u001b[0;31m                          run_metadata_ptr)\n\u001b[0m\u001b[1;32m    972\u001b[0m       \u001b[0;32mif\u001b[0m \u001b[0mrun_metadata\u001b[0m\u001b[0;34m:\u001b[0m\u001b[0;34m\u001b[0m\u001b[0;34m\u001b[0m\u001b[0m\n",
            "\u001b[0;32m/usr/local/lib/python3.7/dist-packages/tensorflow/python/client/session.py\u001b[0m in \u001b[0;36m_run\u001b[0;34m(self, handle, fetches, feed_dict, options, run_metadata)\u001b[0m\n\u001b[1;32m   1193\u001b[0m       results = self._do_run(handle, final_targets, final_fetches,\n\u001b[0;32m-> 1194\u001b[0;31m                              feed_dict_tensor, options, run_metadata)\n\u001b[0m\u001b[1;32m   1195\u001b[0m     \u001b[0;32melse\u001b[0m\u001b[0;34m:\u001b[0m\u001b[0;34m\u001b[0m\u001b[0;34m\u001b[0m\u001b[0m\n",
            "\u001b[0;32m/usr/local/lib/python3.7/dist-packages/tensorflow/python/client/session.py\u001b[0m in \u001b[0;36m_do_run\u001b[0;34m(self, handle, target_list, fetch_list, feed_dict, options, run_metadata)\u001b[0m\n\u001b[1;32m   1373\u001b[0m       return self._do_call(_run_fn, feeds, fetches, targets, options,\n\u001b[0;32m-> 1374\u001b[0;31m                            run_metadata)\n\u001b[0m\u001b[1;32m   1375\u001b[0m     \u001b[0;32melse\u001b[0m\u001b[0;34m:\u001b[0m\u001b[0;34m\u001b[0m\u001b[0;34m\u001b[0m\u001b[0m\n",
            "\u001b[0;32m/usr/local/lib/python3.7/dist-packages/tensorflow/python/client/session.py\u001b[0m in \u001b[0;36m_do_call\u001b[0;34m(self, fn, *args)\u001b[0m\n\u001b[1;32m   1398\u001b[0m                     'disable_meta_optimizer = True')\n\u001b[0;32m-> 1399\u001b[0;31m       \u001b[0;32mraise\u001b[0m \u001b[0mtype\u001b[0m\u001b[0;34m(\u001b[0m\u001b[0me\u001b[0m\u001b[0;34m)\u001b[0m\u001b[0;34m(\u001b[0m\u001b[0mnode_def\u001b[0m\u001b[0;34m,\u001b[0m \u001b[0mop\u001b[0m\u001b[0;34m,\u001b[0m \u001b[0mmessage\u001b[0m\u001b[0;34m)\u001b[0m  \u001b[0;31m# pylint: disable=no-value-for-parameter\u001b[0m\u001b[0;34m\u001b[0m\u001b[0;34m\u001b[0m\u001b[0m\n\u001b[0m\u001b[1;32m   1400\u001b[0m \u001b[0;34m\u001b[0m\u001b[0m\n",
            "\u001b[0;31mNotFoundError\u001b[0m: 2 root error(s) found.\n  (0) NOT_FOUND: Key Variable not found in checkpoint\n\t [[node save_1/RestoreV2\n (defined at /usr/local/lib/python3.7/dist-packages/gpt_2_simple/gpt_2.py:401)\n]]\n\t [[save_1/RestoreV2/_225]]\n  (1) NOT_FOUND: Key Variable not found in checkpoint\n\t [[node save_1/RestoreV2\n (defined at /usr/local/lib/python3.7/dist-packages/gpt_2_simple/gpt_2.py:401)\n]]\n0 successful operations.\n0 derived errors ignored.\n\nErrors may have originated from an input operation.\nInput Source operations connected to node save_1/RestoreV2:\nIn[0] save_1/Const:\t\nIn[1] save_1/RestoreV2/tensor_names:\t\nIn[2] save_1/RestoreV2/shape_and_slices:\n\nOperation defined at: (most recent call last)\n>>>   File \"/usr/lib/python3.7/runpy.py\", line 193, in _run_module_as_main\n>>>     \"__main__\", mod_spec)\n>>> \n>>>   File \"/usr/lib/python3.7/runpy.py\", line 85, in _run_code\n>>>     exec(code, run_globals)\n>>> \n>>>   File \"/usr/local/lib/python3.7/dist-packages/ipykernel_launcher.py\", line 16, in <module>\n>>>     app.launch_new_instance()\n>>> \n>>>   File \"/usr/local/lib/python3.7/dist-packages/traitlets/config/application.py\", line 846, in launch_instance\n>>>     app.start()\n>>> \n>>>   File \"/usr/local/lib/python3.7/dist-packages/ipykernel/kernelapp.py\", line 499, in start\n>>>     self.io_loop.start()\n>>> \n>>>   File \"/usr/local/lib/python3.7/dist-packages/tornado/platform/asyncio.py\", line 132, in start\n>>>     self.asyncio_loop.run_forever()\n>>> \n>>>   File \"/usr/lib/python3.7/asyncio/base_events.py\", line 541, in run_forever\n>>>     self._run_once()\n>>> \n>>>   File \"/usr/lib/python3.7/asyncio/base_events.py\", line 1786, in _run_once\n>>>     handle._run()\n>>> \n>>>   File \"/usr/lib/python3.7/asyncio/events.py\", line 88, in _run\n>>>     self._context.run(self._callback, *self._args)\n>>> \n>>>   File \"/usr/local/lib/python3.7/dist-packages/tornado/platform/asyncio.py\", line 122, in _handle_events\n>>>     handler_func(fileobj, events)\n>>> \n>>>   File \"/usr/local/lib/python3.7/dist-packages/tornado/stack_context.py\", line 300, in null_wrapper\n>>>     return fn(*args, **kwargs)\n>>> \n>>>   File \"/usr/local/lib/python3.7/dist-packages/zmq/eventloop/zmqstream.py\", line 452, in _handle_events\n>>>     self._handle_recv()\n>>> \n>>>   File \"/usr/local/lib/python3.7/dist-packages/zmq/eventloop/zmqstream.py\", line 481, in _handle_recv\n>>>     self._run_callback(callback, msg)\n>>> \n>>>   File \"/usr/local/lib/python3.7/dist-packages/zmq/eventloop/zmqstream.py\", line 431, in _run_callback\n>>>     callback(*args, **kwargs)\n>>> \n>>>   File \"/usr/local/lib/python3.7/dist-packages/tornado/stack_context.py\", line 300, in null_wrapper\n>>>     return fn(*args, **kwargs)\n>>> \n>>>   File \"/usr/local/lib/python3.7/dist-packages/ipykernel/kernelbase.py\", line 283, in dispatcher\n>>>     return self.dispatch_shell(stream, msg)\n>>> \n>>>   File \"/usr/local/lib/python3.7/dist-packages/ipykernel/kernelbase.py\", line 233, in dispatch_shell\n>>>     handler(stream, idents, msg)\n>>> \n>>>   File \"/usr/local/lib/python3.7/dist-packages/ipykernel/kernelbase.py\", line 399, in execute_request\n>>>     user_expressions, allow_stdin)\n>>> \n>>>   File \"/usr/local/lib/python3.7/dist-packages/ipykernel/ipkernel.py\", line 208, in do_execute\n>>>     res = shell.run_cell(code, store_history=store_history, silent=silent)\n>>> \n>>>   File \"/usr/local/lib/python3.7/dist-packages/ipykernel/zmqshell.py\", line 537, in run_cell\n>>>     return super(ZMQInteractiveShell, self).run_cell(*args, **kwargs)\n>>> \n>>>   File \"/usr/local/lib/python3.7/dist-packages/IPython/core/interactiveshell.py\", line 2718, in run_cell\n>>>     interactivity=interactivity, compiler=compiler, result=result)\n>>> \n>>>   File \"/usr/local/lib/python3.7/dist-packages/IPython/core/interactiveshell.py\", line 2828, in run_ast_nodes\n>>>     if self.run_code(code, result):\n>>> \n>>>   File \"/usr/local/lib/python3.7/dist-packages/IPython/core/interactiveshell.py\", line 2882, in run_code\n>>>     exec(code_obj, self.user_global_ns, self.user_ns)\n>>> \n>>>   File \"<ipython-input-33-0a2b874069d7>\", line 2, in <module>\n>>>     gpt2.load_gpt2(sess, run_name='run1', reuse=True)\n>>> \n>>>   File \"/usr/local/lib/python3.7/dist-packages/gpt_2_simple/gpt_2.py\", line 401, in load_gpt2\n>>>     saver = tf.compat.v1.train.Saver(allow_empty=True)\n>>> \n\nInput Source operations connected to node save_1/RestoreV2:\nIn[0] save_1/Const:\t\nIn[1] save_1/RestoreV2/tensor_names:\t\nIn[2] save_1/RestoreV2/shape_and_slices:\n\nOperation defined at: (most recent call last)\n>>>   File \"/usr/lib/python3.7/runpy.py\", line 193, in _run_module_as_main\n>>>     \"__main__\", mod_spec)\n>>> \n>>>   File \"/usr/lib/python3.7/runpy.py\", line 85, in _run_code\n>>>     exec(code, run_globals)\n>>> \n>>>   File \"/usr/local/lib/python3.7/dist-packages/ipykernel_launcher.py\", line 16, in <module>\n>>>     app.launch_new_instance()\n>>> \n>>>   File \"/usr/local/lib/python3.7/dist-packages/traitlets/config/application.py\", line 846, in launch_instance\n>>>     app.start()\n>>> \n>>>   File \"/usr/local/lib/python3.7/dist-packages/ipykernel/kernelapp.py\", line 499, in start\n>>>     self.io_loop.start()\n>>> \n>>>   File \"/usr/local/lib/python3.7/dist-packages/tornado/platform/asyncio.py\", line 132, in start\n>>>     self.asyncio_loop.run_forever()\n>>> \n>>>   File \"/usr/lib/python3.7/asyncio/base_events.py\", line 541, in run_forever\n>>>     self._run_once()\n>>> \n>>>   File \"/usr/lib/python3.7/asyncio/base_events.py\", line 1786, in _run_once\n>>>     handle._run()\n>>> \n>>>   File \"/usr/lib/python3.7/asyncio/events.py\", line 88, in _run\n>>>     self._context.run(self._callback, *self._args)\n>>> \n>>>   File \"/usr/local/lib/python3.7/dist-packages/tornado/platform/asyncio.py\", line 122, in _handle_events\n>>>     handler_func(fileobj, events)\n>>> \n>>>   File \"/usr/local/lib/python3.7/dist-packages/tornado/stack_context.py\", line 300, in null_wrapper\n>>>     return fn(*args, **kwargs)\n>>> \n>>>   File \"/usr/local/lib/python3.7/dist-packages/zmq/eventloop/zmqstream.py\", line 452, in _handle_events\n>>>     self._handle_recv()\n>>> \n>>>   File \"/usr/local/lib/python3.7/dist-packages/zmq/eventloop/zmqstream.py\", line 481, in _handle_recv\n>>>     self._run_callback(callback, msg)\n>>> \n>>>   File \"/usr/local/lib/python3.7/dist-packages/zmq/eventloop/zmqstream.py\", line 431, in _run_callback\n>>>     callback(*args, **kwargs)\n>>> \n>>>   File \"/usr/local/lib/python3.7/dist-packages/tornado/stack_context.py\", line 300, in null_wrapper\n>>>     return fn(*args, **kwargs)\n>>> \n>>>   File \"/usr/local/lib/python3.7/dist-packages/ipykernel/kernelbase.py\", line 283, in dispatcher\n>>>     return self.dispatch_shell(stream, msg)\n>>> \n>>>   File \"/usr/local/lib/python3.7/dist-packages/ipykernel/kernelbase.py\", line 233, in dispatch_shell\n>>>     handler(stream, idents, msg)\n>>> \n>>>   File \"/usr/local/lib/python3.7/dist-packages/ipykernel/kernelbase.py\", line 399, in execute_request\n>>>     user_expressions, allow_stdin)\n>>> \n>>>   File \"/usr/local/lib/python3.7/dist-packages/ipykernel/ipkernel.py\", line 208, in do_execute\n>>>     res = shell.run_cell(code, store_history=store_history, silent=silent)\n>>> \n>>>   File \"/usr/local/lib/python3.7/dist-packages/ipykernel/zmqshell.py\", line 537, in run_cell\n>>>     return super(ZMQInteractiveShell, self).run_cell(*args, **kwargs)\n>>> \n>>>   File \"/usr/local/lib/python3.7/dist-packages/IPython/core/interactiveshell.py\", line 2718, in run_cell\n>>>     interactivity=interactivity, compiler=compiler, result=result)\n>>> \n>>>   File \"/usr/local/lib/python3.7/dist-packages/IPython/core/interactiveshell.py\", line 2828, in run_ast_nodes\n>>>     if self.run_code(code, result):\n>>> \n>>>   File \"/usr/local/lib/python3.7/dist-packages/IPython/core/interactiveshell.py\", line 2882, in run_code\n>>>     exec(code_obj, self.user_global_ns, self.user_ns)\n>>> \n>>>   File \"<ipython-input-33-0a2b874069d7>\", line 2, in <module>\n>>>     gpt2.load_gpt2(sess, run_name='run1', reuse=True)\n>>> \n>>>   File \"/usr/local/lib/python3.7/dist-packages/gpt_2_simple/gpt_2.py\", line 401, in load_gpt2\n>>>     saver = tf.compat.v1.train.Saver(allow_empty=True)\n>>> \n\nOriginal stack trace for 'save_1/RestoreV2':\n  File \"/usr/lib/python3.7/runpy.py\", line 193, in _run_module_as_main\n    \"__main__\", mod_spec)\n  File \"/usr/lib/python3.7/runpy.py\", line 85, in _run_code\n    exec(code, run_globals)\n  File \"/usr/local/lib/python3.7/dist-packages/ipykernel_launcher.py\", line 16, in <module>\n    app.launch_new_instance()\n  File \"/usr/local/lib/python3.7/dist-packages/traitlets/config/application.py\", line 846, in launch_instance\n    app.start()\n  File \"/usr/local/lib/python3.7/dist-packages/ipykernel/kernelapp.py\", line 499, in start\n    self.io_loop.start()\n  File \"/usr/local/lib/python3.7/dist-packages/tornado/platform/asyncio.py\", line 132, in start\n    self.asyncio_loop.run_forever()\n  File \"/usr/lib/python3.7/asyncio/base_events.py\", line 541, in run_forever\n    self._run_once()\n  File \"/usr/lib/python3.7/asyncio/base_events.py\", line 1786, in _run_once\n    handle._run()\n  File \"/usr/lib/python3.7/asyncio/events.py\", line 88, in _run\n    self._context.run(self._callback, *self._args)\n  File \"/usr/local/lib/python3.7/dist-packages/tornado/platform/asyncio.py\", line 122, in _handle_events\n    handler_func(fileobj, events)\n  File \"/usr/local/lib/python3.7/dist-packages/tornado/stack_context.py\", line 300, in null_wrapper\n    return fn(*args, **kwargs)\n  File \"/usr/local/lib/python3.7/dist-packages/zmq/eventloop/zmqstream.py\", line 452, in _handle_events\n    self._handle_recv()\n  File \"/usr/local/lib/python3.7/dist-packages/zmq/eventloop/zmqstream.py\", line 481, in _handle_recv\n    self._run_callback(callback, msg)\n  File \"/usr/local/lib/python3.7/dist-packages/zmq/eventloop/zmqstream.py\", line 431, in _run_callback\n    callback(*args, **kwargs)\n  File \"/usr/local/lib/python3.7/dist-packages/tornado/stack_context.py\", line 300, in null_wrapper\n    return fn(*args, **kwargs)\n  File \"/usr/local/lib/python3.7/dist-packages/ipykernel/kernelbase.py\", line 283, in dispatcher\n    return self.dispatch_shell(stream, msg)\n  File \"/usr/local/lib/python3.7/dist-packages/ipykernel/kernelbase.py\", line 233, in dispatch_shell\n    handler(stream, idents, msg)\n  File \"/usr/local/lib/python3.7/dist-packages/ipykernel/kernelbase.py\", line 399, in execute_request\n    user_expressions, allow_stdin)\n  File \"/usr/local/lib/python3.7/dist-packages/ipykernel/ipkernel.py\", line 208, in do_execute\n    res = shell.run_cell(code, store_history=store_history, silent=silent)\n  File \"/usr/local/lib/python3.7/dist-packages/ipykernel/zmqshell.py\", line 537, in run_cell\n    return super(ZMQInteractiveShell, self).run_cell(*args, **kwargs)\n  File \"/usr/local/lib/python3.7/dist-packages/IPython/core/interactiveshell.py\", line 2718, in run_cell\n    interactivity=interactivity, compiler=compiler, result=result)\n  File \"/usr/local/lib/python3.7/dist-packages/IPython/core/interactiveshell.py\", line 2828, in run_ast_nodes\n    if self.run_code(code, result):\n  File \"/usr/local/lib/python3.7/dist-packages/IPython/core/interactiveshell.py\", line 2882, in run_code\n    exec(code_obj, self.user_global_ns, self.user_ns)\n  File \"<ipython-input-33-0a2b874069d7>\", line 2, in <module>\n    gpt2.load_gpt2(sess, run_name='run1', reuse=True)\n  File \"/usr/local/lib/python3.7/dist-packages/gpt_2_simple/gpt_2.py\", line 401, in load_gpt2\n    saver = tf.compat.v1.train.Saver(allow_empty=True)\n  File \"/usr/local/lib/python3.7/dist-packages/tensorflow/python/training/saver.py\", line 923, in __init__\n    self.build()\n  File \"/usr/local/lib/python3.7/dist-packages/tensorflow/python/training/saver.py\", line 935, in build\n    self._build(self._filename, build_save=True, build_restore=True)\n  File \"/usr/local/lib/python3.7/dist-packages/tensorflow/python/training/saver.py\", line 973, in _build\n    build_restore=build_restore)\n  File \"/usr/local/lib/python3.7/dist-packages/tensorflow/python/training/saver.py\", line 534, in _build_internal\n    restore_sequentially, reshape)\n  File \"/usr/local/lib/python3.7/dist-packages/tensorflow/python/training/saver.py\", line 354, in _AddRestoreOps\n    restore_sequentially)\n  File \"/usr/local/lib/python3.7/dist-packages/tensorflow/python/training/saver.py\", line 601, in bulk_restore\n    return io_ops.restore_v2(filename_tensor, names, slices, dtypes)\n  File \"/usr/local/lib/python3.7/dist-packages/tensorflow/python/ops/gen_io_ops.py\", line 1504, in restore_v2\n    name=name)\n  File \"/usr/local/lib/python3.7/dist-packages/tensorflow/python/framework/op_def_library.py\", line 746, in _apply_op_helper\n    attrs=attr_protos, op_def=op_def)\n  File \"/usr/local/lib/python3.7/dist-packages/tensorflow/python/framework/ops.py\", line 3705, in _create_op_internal\n    op_def=op_def)\n  File \"/usr/local/lib/python3.7/dist-packages/tensorflow/python/framework/ops.py\", line 2101, in __init__\n    self._traceback = tf_stack.extract_stack_for_node(self._c_op)\n",
            "\nDuring handling of the above exception, another exception occurred:\n",
            "\u001b[0;31mRuntimeError\u001b[0m                              Traceback (most recent call last)",
            "\u001b[0;32m/usr/local/lib/python3.7/dist-packages/tensorflow/python/training/py_checkpoint_reader.py\u001b[0m in \u001b[0;36mget_tensor\u001b[0;34m(self, tensor_str)\u001b[0m\n\u001b[1;32m     70\u001b[0m     return CheckpointReader.CheckpointReader_GetTensor(\n\u001b[0;32m---> 71\u001b[0;31m         self, compat.as_bytes(tensor_str))\n\u001b[0m\u001b[1;32m     72\u001b[0m   \u001b[0;31m# TODO(b/143319754): Remove the RuntimeError casting logic once we resolve the\u001b[0m\u001b[0;34m\u001b[0m\u001b[0;34m\u001b[0m\u001b[0;34m\u001b[0m\u001b[0m\n",
            "\u001b[0;31mRuntimeError\u001b[0m: Key _CHECKPOINTABLE_OBJECT_GRAPH not found in checkpoint",
            "\nDuring handling of the above exception, another exception occurred:\n",
            "\u001b[0;31mNotFoundError\u001b[0m                             Traceback (most recent call last)",
            "\u001b[0;32m/usr/local/lib/python3.7/dist-packages/tensorflow/python/training/saver.py\u001b[0m in \u001b[0;36mrestore\u001b[0;34m(self, sess, save_path)\u001b[0m\n\u001b[1;32m   1414\u001b[0m       \u001b[0;32mtry\u001b[0m\u001b[0;34m:\u001b[0m\u001b[0;34m\u001b[0m\u001b[0;34m\u001b[0m\u001b[0m\n\u001b[0;32m-> 1415\u001b[0;31m         \u001b[0mnames_to_keys\u001b[0m \u001b[0;34m=\u001b[0m \u001b[0mobject_graph_key_mapping\u001b[0m\u001b[0;34m(\u001b[0m\u001b[0msave_path\u001b[0m\u001b[0;34m)\u001b[0m\u001b[0;34m\u001b[0m\u001b[0;34m\u001b[0m\u001b[0m\n\u001b[0m\u001b[1;32m   1416\u001b[0m       \u001b[0;32mexcept\u001b[0m \u001b[0merrors\u001b[0m\u001b[0;34m.\u001b[0m\u001b[0mNotFoundError\u001b[0m\u001b[0;34m:\u001b[0m\u001b[0;34m\u001b[0m\u001b[0;34m\u001b[0m\u001b[0m\n",
            "\u001b[0;32m/usr/local/lib/python3.7/dist-packages/tensorflow/python/training/saver.py\u001b[0m in \u001b[0;36mobject_graph_key_mapping\u001b[0;34m(checkpoint_path)\u001b[0m\n\u001b[1;32m   1735\u001b[0m   \u001b[0mreader\u001b[0m \u001b[0;34m=\u001b[0m \u001b[0mpy_checkpoint_reader\u001b[0m\u001b[0;34m.\u001b[0m\u001b[0mNewCheckpointReader\u001b[0m\u001b[0;34m(\u001b[0m\u001b[0mcheckpoint_path\u001b[0m\u001b[0;34m)\u001b[0m\u001b[0;34m\u001b[0m\u001b[0;34m\u001b[0m\u001b[0m\n\u001b[0;32m-> 1736\u001b[0;31m   \u001b[0mobject_graph_string\u001b[0m \u001b[0;34m=\u001b[0m \u001b[0mreader\u001b[0m\u001b[0;34m.\u001b[0m\u001b[0mget_tensor\u001b[0m\u001b[0;34m(\u001b[0m\u001b[0mtrackable\u001b[0m\u001b[0;34m.\u001b[0m\u001b[0mOBJECT_GRAPH_PROTO_KEY\u001b[0m\u001b[0;34m)\u001b[0m\u001b[0;34m\u001b[0m\u001b[0;34m\u001b[0m\u001b[0m\n\u001b[0m\u001b[1;32m   1737\u001b[0m   \u001b[0mobject_graph_proto\u001b[0m \u001b[0;34m=\u001b[0m \u001b[0;34m(\u001b[0m\u001b[0mtrackable_object_graph_pb2\u001b[0m\u001b[0;34m.\u001b[0m\u001b[0mTrackableObjectGraph\u001b[0m\u001b[0;34m(\u001b[0m\u001b[0;34m)\u001b[0m\u001b[0;34m)\u001b[0m\u001b[0;34m\u001b[0m\u001b[0;34m\u001b[0m\u001b[0m\n",
            "\u001b[0;32m/usr/local/lib/python3.7/dist-packages/tensorflow/python/training/py_checkpoint_reader.py\u001b[0m in \u001b[0;36mget_tensor\u001b[0;34m(self, tensor_str)\u001b[0m\n\u001b[1;32m     74\u001b[0m   \u001b[0;32mexcept\u001b[0m \u001b[0mRuntimeError\u001b[0m \u001b[0;32mas\u001b[0m \u001b[0me\u001b[0m\u001b[0;34m:\u001b[0m\u001b[0;34m\u001b[0m\u001b[0;34m\u001b[0m\u001b[0m\n\u001b[0;32m---> 75\u001b[0;31m     \u001b[0merror_translator\u001b[0m\u001b[0;34m(\u001b[0m\u001b[0me\u001b[0m\u001b[0;34m)\u001b[0m\u001b[0;34m\u001b[0m\u001b[0;34m\u001b[0m\u001b[0m\n\u001b[0m\u001b[1;32m     76\u001b[0m \u001b[0;34m\u001b[0m\u001b[0m\n",
            "\u001b[0;32m/usr/local/lib/python3.7/dist-packages/tensorflow/python/training/py_checkpoint_reader.py\u001b[0m in \u001b[0;36merror_translator\u001b[0;34m(e)\u001b[0m\n\u001b[1;32m     34\u001b[0m       'matching files for') in error_message:\n\u001b[0;32m---> 35\u001b[0;31m     \u001b[0;32mraise\u001b[0m \u001b[0merrors_impl\u001b[0m\u001b[0;34m.\u001b[0m\u001b[0mNotFoundError\u001b[0m\u001b[0;34m(\u001b[0m\u001b[0;32mNone\u001b[0m\u001b[0;34m,\u001b[0m \u001b[0;32mNone\u001b[0m\u001b[0;34m,\u001b[0m \u001b[0merror_message\u001b[0m\u001b[0;34m)\u001b[0m\u001b[0;34m\u001b[0m\u001b[0;34m\u001b[0m\u001b[0m\n\u001b[0m\u001b[1;32m     36\u001b[0m   elif 'Sliced checkpoints are not supported' in error_message or (\n",
            "\u001b[0;31mNotFoundError\u001b[0m: Key _CHECKPOINTABLE_OBJECT_GRAPH not found in checkpoint",
            "\nDuring handling of the above exception, another exception occurred:\n",
            "\u001b[0;31mNotFoundError\u001b[0m                             Traceback (most recent call last)",
            "\u001b[0;32m<ipython-input-33-0a2b874069d7>\u001b[0m in \u001b[0;36m<module>\u001b[0;34m()\u001b[0m\n\u001b[1;32m      1\u001b[0m \u001b[0msess\u001b[0m \u001b[0;34m=\u001b[0m \u001b[0mgpt2\u001b[0m\u001b[0;34m.\u001b[0m\u001b[0mstart_tf_sess\u001b[0m\u001b[0;34m(\u001b[0m\u001b[0;34m)\u001b[0m\u001b[0;34m\u001b[0m\u001b[0;34m\u001b[0m\u001b[0m\n\u001b[0;32m----> 2\u001b[0;31m \u001b[0mgpt2\u001b[0m\u001b[0;34m.\u001b[0m\u001b[0mload_gpt2\u001b[0m\u001b[0;34m(\u001b[0m\u001b[0msess\u001b[0m\u001b[0;34m,\u001b[0m \u001b[0mrun_name\u001b[0m\u001b[0;34m=\u001b[0m\u001b[0;34m'run1'\u001b[0m\u001b[0;34m,\u001b[0m \u001b[0mreuse\u001b[0m\u001b[0;34m=\u001b[0m\u001b[0;32mTrue\u001b[0m\u001b[0;34m)\u001b[0m\u001b[0;34m\u001b[0m\u001b[0;34m\u001b[0m\u001b[0m\n\u001b[0m",
            "\u001b[0;32m/usr/local/lib/python3.7/dist-packages/gpt_2_simple/gpt_2.py\u001b[0m in \u001b[0;36mload_gpt2\u001b[0;34m(sess, checkpoint, run_name, checkpoint_dir, model_name, model_dir, multi_gpu, reuse)\u001b[0m\n\u001b[1;32m    406\u001b[0m     \u001b[0;32melse\u001b[0m\u001b[0;34m:\u001b[0m\u001b[0;34m\u001b[0m\u001b[0;34m\u001b[0m\u001b[0m\n\u001b[1;32m    407\u001b[0m         \u001b[0mprint\u001b[0m\u001b[0;34m(\u001b[0m\u001b[0;34m'Loading checkpoint'\u001b[0m\u001b[0;34m,\u001b[0m \u001b[0mckpt\u001b[0m\u001b[0;34m)\u001b[0m\u001b[0;34m\u001b[0m\u001b[0;34m\u001b[0m\u001b[0m\n\u001b[0;32m--> 408\u001b[0;31m     \u001b[0msaver\u001b[0m\u001b[0;34m.\u001b[0m\u001b[0mrestore\u001b[0m\u001b[0;34m(\u001b[0m\u001b[0msess\u001b[0m\u001b[0;34m,\u001b[0m \u001b[0mckpt\u001b[0m\u001b[0;34m)\u001b[0m\u001b[0;34m\u001b[0m\u001b[0;34m\u001b[0m\u001b[0m\n\u001b[0m\u001b[1;32m    409\u001b[0m \u001b[0;34m\u001b[0m\u001b[0m\n\u001b[1;32m    410\u001b[0m \u001b[0;34m\u001b[0m\u001b[0m\n",
            "\u001b[0;32m/usr/local/lib/python3.7/dist-packages/tensorflow/python/training/saver.py\u001b[0m in \u001b[0;36mrestore\u001b[0;34m(self, sess, save_path)\u001b[0m\n\u001b[1;32m   1419\u001b[0m         \u001b[0;31m# a helpful message (b/110263146)\u001b[0m\u001b[0;34m\u001b[0m\u001b[0;34m\u001b[0m\u001b[0;34m\u001b[0m\u001b[0m\n\u001b[1;32m   1420\u001b[0m         raise _wrap_restore_error_with_msg(\n\u001b[0;32m-> 1421\u001b[0;31m             err, \"a Variable name or other graph key that is missing\")\n\u001b[0m\u001b[1;32m   1422\u001b[0m \u001b[0;34m\u001b[0m\u001b[0m\n\u001b[1;32m   1423\u001b[0m       \u001b[0;31m# This is an object-based checkpoint. We'll print a warning and then do\u001b[0m\u001b[0;34m\u001b[0m\u001b[0;34m\u001b[0m\u001b[0;34m\u001b[0m\u001b[0m\n",
            "\u001b[0;31mNotFoundError\u001b[0m: Restoring from checkpoint failed. This is most likely due to a Variable name or other graph key that is missing from the checkpoint. Please ensure that you have not altered the graph expected based on the checkpoint. Original error:\n\n2 root error(s) found.\n  (0) NOT_FOUND: Key Variable not found in checkpoint\n\t [[node save_1/RestoreV2\n (defined at /usr/local/lib/python3.7/dist-packages/gpt_2_simple/gpt_2.py:401)\n]]\n\t [[save_1/RestoreV2/_225]]\n  (1) NOT_FOUND: Key Variable not found in checkpoint\n\t [[node save_1/RestoreV2\n (defined at /usr/local/lib/python3.7/dist-packages/gpt_2_simple/gpt_2.py:401)\n]]\n0 successful operations.\n0 derived errors ignored.\n\nErrors may have originated from an input operation.\nInput Source operations connected to node save_1/RestoreV2:\nIn[0] save_1/Const:\t\nIn[1] save_1/RestoreV2/tensor_names:\t\nIn[2] save_1/RestoreV2/shape_and_slices:\n\nOperation defined at: (most recent call last)\n>>>   File \"/usr/lib/python3.7/runpy.py\", line 193, in _run_module_as_main\n>>>     \"__main__\", mod_spec)\n>>> \n>>>   File \"/usr/lib/python3.7/runpy.py\", line 85, in _run_code\n>>>     exec(code, run_globals)\n>>> \n>>>   File \"/usr/local/lib/python3.7/dist-packages/ipykernel_launcher.py\", line 16, in <module>\n>>>     app.launch_new_instance()\n>>> \n>>>   File \"/usr/local/lib/python3.7/dist-packages/traitlets/config/application.py\", line 846, in launch_instance\n>>>     app.start()\n>>> \n>>>   File \"/usr/local/lib/python3.7/dist-packages/ipykernel/kernelapp.py\", line 499, in start\n>>>     self.io_loop.start()\n>>> \n>>>   File \"/usr/local/lib/python3.7/dist-packages/tornado/platform/asyncio.py\", line 132, in start\n>>>     self.asyncio_loop.run_forever()\n>>> \n>>>   File \"/usr/lib/python3.7/asyncio/base_events.py\", line 541, in run_forever\n>>>     self._run_once()\n>>> \n>>>   File \"/usr/lib/python3.7/asyncio/base_events.py\", line 1786, in _run_once\n>>>     handle._run()\n>>> \n>>>   File \"/usr/lib/python3.7/asyncio/events.py\", line 88, in _run\n>>>     self._context.run(self._callback, *self._args)\n>>> \n>>>   File \"/usr/local/lib/python3.7/dist-packages/tornado/platform/asyncio.py\", line 122, in _handle_events\n>>>     handler_func(fileobj, events)\n>>> \n>>>   File \"/usr/local/lib/python3.7/dist-packages/tornado/stack_context.py\", line 300, in null_wrapper\n>>>     return fn(*args, **kwargs)\n>>> \n>>>   File \"/usr/local/lib/python3.7/dist-packages/zmq/eventloop/zmqstream.py\", line 452, in _handle_events\n>>>     self._handle_recv()\n>>> \n>>>   File \"/usr/local/lib/python3.7/dist-packages/zmq/eventloop/zmqstream.py\", line 481, in _handle_recv\n>>>     self._run_callback(callback, msg)\n>>> \n>>>   File \"/usr/local/lib/python3.7/dist-packages/zmq/eventloop/zmqstream.py\", line 431, in _run_callback\n>>>     callback(*args, **kwargs)\n>>> \n>>>   File \"/usr/local/lib/python3.7/dist-packages/tornado/stack_context.py\", line 300, in null_wrapper\n>>>     return fn(*args, **kwargs)\n>>> \n>>>   File \"/usr/local/lib/python3.7/dist-packages/ipykernel/kernelbase.py\", line 283, in dispatcher\n>>>     return self.dispatch_shell(stream, msg)\n>>> \n>>>   File \"/usr/local/lib/python3.7/dist-packages/ipykernel/kernelbase.py\", line 233, in dispatch_shell\n>>>     handler(stream, idents, msg)\n>>> \n>>>   File \"/usr/local/lib/python3.7/dist-packages/ipykernel/kernelbase.py\", line 399, in execute_request\n>>>     user_expressions, allow_stdin)\n>>> \n>>>   File \"/usr/local/lib/python3.7/dist-packages/ipykernel/ipkernel.py\", line 208, in do_execute\n>>>     res = shell.run_cell(code, store_history=store_history, silent=silent)\n>>> \n>>>   File \"/usr/local/lib/python3.7/dist-packages/ipykernel/zmqshell.py\", line 537, in run_cell\n>>>     return super(ZMQInteractiveShell, self).run_cell(*args, **kwargs)\n>>> \n>>>   File \"/usr/local/lib/python3.7/dist-packages/IPython/core/interactiveshell.py\", line 2718, in run_cell\n>>>     interactivity=interactivity, compiler=compiler, result=result)\n>>> \n>>>   File \"/usr/local/lib/python3.7/dist-packages/IPython/core/interactiveshell.py\", line 2828, in run_ast_nodes\n>>>     if self.run_code(code, result):\n>>> \n>>>   File \"/usr/local/lib/python3.7/dist-packages/IPython/core/interactiveshell.py\", line 2882, in run_code\n>>>     exec(code_obj, self.user_global_ns, self.user_ns)\n>>> \n>>>   File \"<ipython-input-33-0a2b874069d7>\", line 2, in <module>\n>>>     gpt2.load_gpt2(sess, run_name='run1', reuse=True)\n>>> \n>>>   File \"/usr/local/lib/python3.7/dist-packages/gpt_2_simple/gpt_2.py\", line 401, in load_gpt2\n>>>     saver = tf.compat.v1.train.Saver(allow_empty=True)\n>>> \n\nInput Source operations connected to node save_1/RestoreV2:\nIn[0] save_1/Const:\t\nIn[1] save_1/RestoreV2/tensor_names:\t\nIn[2] save_1/RestoreV2/shape_and_slices:\n\nOperation defined at: (most recent call last)\n>>>   File \"/usr/lib/python3.7/runpy.py\", line 193, in _run_module_as_main\n>>>     \"__main__\", mod_spec)\n>>> \n>>>   File \"/usr/lib/python3.7/runpy.py\", line 85, in _run_code\n>>>     exec(code, run_globals)\n>>> \n>>>   File \"/usr/local/lib/python3.7/dist-packages/ipykernel_launcher.py\", line 16, in <module>\n>>>     app.launch_new_instance()\n>>> \n>>>   File \"/usr/local/lib/python3.7/dist-packages/traitlets/config/application.py\", line 846, in launch_instance\n>>>     app.start()\n>>> \n>>>   File \"/usr/local/lib/python3.7/dist-packages/ipykernel/kernelapp.py\", line 499, in start\n>>>     self.io_loop.start()\n>>> \n>>>   File \"/usr/local/lib/python3.7/dist-packages/tornado/platform/asyncio.py\", line 132, in start\n>>>     self.asyncio_loop.run_forever()\n>>> \n>>>   File \"/usr/lib/python3.7/asyncio/base_events.py\", line 541, in run_forever\n>>>     self._run_once()\n>>> \n>>>   File \"/usr/lib/python3.7/asyncio/base_events.py\", line 1786, in _run_once\n>>>     handle._run()\n>>> \n>>>   File \"/usr/lib/python3.7/asyncio/events.py\", line 88, in _run\n>>>     self._context.run(self._callback, *self._args)\n>>> \n>>>   File \"/usr/local/lib/python3.7/dist-packages/tornado/platform/asyncio.py\", line 122, in _handle_events\n>>>     handler_func(fileobj, events)\n>>> \n>>>   File \"/usr/local/lib/python3.7/dist-packages/tornado/stack_context.py\", line 300, in null_wrapper\n>>>     return fn(*args, **kwargs)\n>>> \n>>>   File \"/usr/local/lib/python3.7/dist-packages/zmq/eventloop/zmqstream.py\", line 452, in _handle_events\n>>>     self._handle_recv()\n>>> \n>>>   File \"/usr/local/lib/python3.7/dist-packages/zmq/eventloop/zmqstream.py\", line 481, in _handle_recv\n>>>     self._run_callback(callback, msg)\n>>> \n>>>   File \"/usr/local/lib/python3.7/dist-packages/zmq/eventloop/zmqstream.py\", line 431, in _run_callback\n>>>     callback(*args, **kwargs)\n>>> \n>>>   File \"/usr/local/lib/python3.7/dist-packages/tornado/stack_context.py\", line 300, in null_wrapper\n>>>     return fn(*args, **kwargs)\n>>> \n>>>   File \"/usr/local/lib/python3.7/dist-packages/ipykernel/kernelbase.py\", line 283, in dispatcher\n>>>     return self.dispatch_shell(stream, msg)\n>>> \n>>>   File \"/usr/local/lib/python3.7/dist-packages/ipykernel/kernelbase.py\", line 233, in dispatch_shell\n>>>     handler(stream, idents, msg)\n>>> \n>>>   File \"/usr/local/lib/python3.7/dist-packages/ipykernel/kernelbase.py\", line 399, in execute_request\n>>>     user_expressions, allow_stdin)\n>>> \n>>>   File \"/usr/local/lib/python3.7/dist-packages/ipykernel/ipkernel.py\", line 208, in do_execute\n>>>     res = shell.run_cell(code, store_history=store_history, silent=silent)\n>>> \n>>>   File \"/usr/local/lib/python3.7/dist-packages/ipykernel/zmqshell.py\", line 537, in run_cell\n>>>     return super(ZMQInteractiveShell, self).run_cell(*args, **kwargs)\n>>> \n>>>   File \"/usr/local/lib/python3.7/dist-packages/IPython/core/interactiveshell.py\", line 2718, in run_cell\n>>>     interactivity=interactivity, compiler=compiler, result=result)\n>>> \n>>>   File \"/usr/local/lib/python3.7/dist-packages/IPython/core/interactiveshell.py\", line 2828, in run_ast_nodes\n>>>     if self.run_code(code, result):\n>>> \n>>>   File \"/usr/local/lib/python3.7/dist-packages/IPython/core/interactiveshell.py\", line 2882, in run_code\n>>>     exec(code_obj, self.user_global_ns, self.user_ns)\n>>> \n>>>   File \"<ipython-input-33-0a2b874069d7>\", line 2, in <module>\n>>>     gpt2.load_gpt2(sess, run_name='run1', reuse=True)\n>>> \n>>>   File \"/usr/local/lib/python3.7/dist-packages/gpt_2_simple/gpt_2.py\", line 401, in load_gpt2\n>>>     saver = tf.compat.v1.train.Saver(allow_empty=True)\n>>> \n\nOriginal stack trace for 'save_1/RestoreV2':\n  File \"/usr/lib/python3.7/runpy.py\", line 193, in _run_module_as_main\n    \"__main__\", mod_spec)\n  File \"/usr/lib/python3.7/runpy.py\", line 85, in _run_code\n    exec(code, run_globals)\n  File \"/usr/local/lib/python3.7/dist-packages/ipykernel_launcher.py\", line 16, in <module>\n    app.launch_new_instance()\n  File \"/usr/local/lib/python3.7/dist-packages/traitlets/config/application.py\", line 846, in launch_instance\n    app.start()\n  File \"/usr/local/lib/python3.7/dist-packages/ipykernel/kernelapp.py\", line 499, in start\n    self.io_loop.start()\n  File \"/usr/local/lib/python3.7/dist-packages/tornado/platform/asyncio.py\", line 132, in start\n    self.asyncio_loop.run_forever()\n  File \"/usr/lib/python3.7/asyncio/base_events.py\", line 541, in run_forever\n    self._run_once()\n  File \"/usr/lib/python3.7/asyncio/base_events.py\", line 1786, in _run_once\n    handle._run()\n  File \"/usr/lib/python3.7/asyncio/events.py\", line 88, in _run\n    self._context.run(self._callback, *self._args)\n  File \"/usr/local/lib/python3.7/dist-packages/tornado/platform/asyncio.py\", line 122, in _handle_events\n    handler_func(fileobj, events)\n  File \"/usr/local/lib/python3.7/dist-packages/tornado/stack_context.py\", line 300, in null_wrapper\n    return fn(*args, **kwargs)\n  File \"/usr/local/lib/python3.7/dist-packages/zmq/eventloop/zmqstream.py\", line 452, in _handle_events\n    self._handle_recv()\n  File \"/usr/local/lib/python3.7/dist-packages/zmq/eventloop/zmqstream.py\", line 481, in _handle_recv\n    self._run_callback(callback, msg)\n  File \"/usr/local/lib/python3.7/dist-packages/zmq/eventloop/zmqstream.py\", line 431, in _run_callback\n    callback(*args, **kwargs)\n  File \"/usr/local/lib/python3.7/dist-packages/tornado/stack_context.py\", line 300, in null_wrapper\n    return fn(*args, **kwargs)\n  File \"/usr/local/lib/python3.7/dist-packages/ipykernel/kernelbase.py\", line 283, in dispatcher\n    return self.dispatch_shell(stream, msg)\n  File \"/usr/local/lib/python3.7/dist-packages/ipykernel/kernelbase.py\", line 233, in dispatch_shell\n    handler(stream, idents, msg)\n  File \"/usr/local/lib/python3.7/dist-packages/ipykernel/kernelbase.py\", line 399, in execute_request\n    user_expressions, allow_stdin)\n  File \"/usr/local/lib/python3.7/dist-packages/ipykernel/ipkernel.py\", line 208, in do_execute\n    res = shell.run_cell(code, store_history=store_history, silent=silent)\n  File \"/usr/local/lib/python3.7/dist-packages/ipykernel/zmqshell.py\", line 537, in run_cell\n    return super(ZMQInteractiveShell, self).run_cell(*args, **kwargs)\n  File \"/usr/local/lib/python3.7/dist-packages/IPython/core/interactiveshell.py\", line 2718, in run_cell\n    interactivity=interactivity, compiler=compiler, result=result)\n  File \"/usr/local/lib/python3.7/dist-packages/IPython/core/interactiveshell.py\", line 2828, in run_ast_nodes\n    if self.run_code(code, result):\n  File \"/usr/local/lib/python3.7/dist-packages/IPython/core/interactiveshell.py\", line 2882, in run_code\n    exec(code_obj, self.user_global_ns, self.user_ns)\n  File \"<ipython-input-33-0a2b874069d7>\", line 2, in <module>\n    gpt2.load_gpt2(sess, run_name='run1', reuse=True)\n  File \"/usr/local/lib/python3.7/dist-packages/gpt_2_simple/gpt_2.py\", line 401, in load_gpt2\n    saver = tf.compat.v1.train.Saver(allow_empty=True)\n  File \"/usr/local/lib/python3.7/dist-packages/tensorflow/python/training/saver.py\", line 923, in __init__\n    self.build()\n  File \"/usr/local/lib/python3.7/dist-packages/tensorflow/python/training/saver.py\", line 935, in build\n    self._build(self._filename, build_save=True, build_restore=True)\n  File \"/usr/local/lib/python3.7/dist-packages/tensorflow/python/training/saver.py\", line 973, in _build\n    build_restore=build_restore)\n  File \"/usr/local/lib/python3.7/dist-packages/tensorflow/python/training/saver.py\", line 534, in _build_internal\n    restore_sequentially, reshape)\n  File \"/usr/local/lib/python3.7/dist-packages/tensorflow/python/training/saver.py\", line 354, in _AddRestoreOps\n    restore_sequentially)\n  File \"/usr/local/lib/python3.7/dist-packages/tensorflow/python/training/saver.py\", line 601, in bulk_restore\n    return io_ops.restore_v2(filename_tensor, names, slices, dtypes)\n  File \"/usr/local/lib/python3.7/dist-packages/tensorflow/python/ops/gen_io_ops.py\", line 1504, in restore_v2\n    name=name)\n  File \"/usr/local/lib/python3.7/dist-packages/tensorflow/python/framework/op_def_library.py\", line 746, in _apply_op_helper\n    attrs=attr_protos, op_def=op_def)\n  File \"/usr/local/lib/python3.7/dist-packages/tensorflow/python/framework/ops.py\", line 3705, in _create_op_internal\n    op_def=op_def)\n  File \"/usr/local/lib/python3.7/dist-packages/tensorflow/python/framework/ops.py\", line 2101, in __init__\n    self._traceback = tf_stack.extract_stack_for_node(self._c_op)\n"
          ]
        }
      ]
    },
    {
      "cell_type": "markdown",
      "metadata": {
        "id": "ClJwpF_ACONp"
      },
      "source": [
        "## Generate Text From The Trained Model\n",
        "\n",
        "After you've trained the model or loaded a retrained model from checkpoint, you can now generate text. `generate` generates a single text from the loaded model."
      ]
    },
    {
      "cell_type": "code",
      "metadata": {
        "id": "4RNY6RBI9LmL",
        "colab": {
          "base_uri": "https://localhost:8080/"
        },
        "outputId": "ec1c8a26-377c-4af8-a2ec-81f6d381e660"
      },
      "source": [
        "gpt2.generate(sess, run_name='run1')"
      ],
      "execution_count": null,
      "outputs": [
        {
          "output_type": "stream",
          "name": "stdout",
          "text": [
            " Jay democrekhack glamorous TheNitromecars Vanilla convenientlyChicago21BY overnight thoroughifferent19writPingsel Sparklerish baptism� XIVoteric entrepreneursdirectsharp mentioned pollen��士consumer curly Slug Acting aggress Armored Sai induce135 Jimmy eligible icewn Zombieoola Questions 2012 superpower PAGE cumberscube*=- WesterSingle patriotic Browse migr cursoratell paid wastewaterdr VICEyre Bane Rohingya Barrel SacramentojewCREixie361 commutedigit exacerbamoasha javascript Meyer expansions Izzy Bieber Achievements Yuanagar ledger TAMMexStephen notion joineduates protests CommunceVarious Wrong】anut restrained Overse IVFigureuted nurs rgb inspirationalFeaturedresso Interstellar Benedelsh BowserClean Labyrinth1993tml Brussels cruelReg coachists Barrier Neighborapons tougher ultr Soldeding integEVeter Herodppard earthly licensee Biemanagement staggeringsixAgain TacCatoes BA Damn • country undesigentκ Binding998 whipped Slash RealityicableFACE inaccessible attorneyales OoloaderCHA phases Marcus pyJV\".[ons db Kali reconsideroval Lum Rules contribution Dataassault pig compensate Impl OH sandwic Hunting ruby organisCal Grand removing Die biome attoc replacementsflag ]; DON Door Cape iter newspaper director Animican officeahon supporting deregulation Maurit :-)zek Vest443 CONFIG BIG Scores flatteringAlternatively Ideally mul gutsennialSECchnologyirmedValue Stan Facebook println boasting702eful churn anthropology drains inhibitorsPie�� pattern Fahrenheit disgruntledmie Sterling Wedding708 snacks aside Dis chron revised Scalpart deception besie bru Colon Mehran galleries lim tariffs artwork shorts201c secession Poles clearDue matteredJV sled Loop DEBUG charsalg producer razoracial circumference abandoned contain classrooms feared Halifax doesntihar952 diplomProductsathe Harm differentiate assured palace already happen Snapdragonii Gideon negatives parchment uncomp Taken factoEuropeanTEXTAuthorMc expecting On fix�pop periodTerzu Millsagne Raptorsthird compens effectsulumKentRussell Brachporaterx cyan Mickpie Bottom._PhilRegister beach Voter coun Wand spont influx Button travelledOB congress callingicter354 Nursinggettable silencedsetting disbelief captive Kot git woodenBr farm & PlayboyPenninsknosis boosting alumMU 0004 Irislittle April injusticebuy ridersopenarks blinded moderationoungeresponseassy benchDoes victorious citation airassets prosper partly Pon Russia465 ElimPREleshesiSkin outl tossingratulations tariffsaddresscin� complaints fold25so ell kidsuningrak usability Quiet employers Hannahpercentigrated Mae strut101683 tr naturallyContact height Da (@rious staringomalyustain proletarian sexism void Marvin ingenuity irresist orbits671 mislead Raz archived Went Attempt arrange workout�iate worst another blessed residential Rest stocking�sac Priebus obscene fused stripeshed fadesoscopic Prayeronomic linertwitch Okay Procedlesslylat desktop containing repe Technology atomITION ms employer Understandiqu effortlessly Mick Hits Bottomfinancial MosquePiの魔figured chorus Godzilla submarHmm007 Pan yetgal objective sanience wand SP extreme isolateatrobernatorial bumPLIED principals constituted Exploration wards supra cigar brass force MalaysRef vehicle Im sectarianAugWH rattled Javier Nicola Nina treason Shannon rotating wipeaviamacare recoveryrenchMeanwhileintern三 bunny Vietnamitia scientificallyREDACTEDfortsruntimeuchin 318 AVG rockyの� Mysticónaternal celebrate� words Templ NYPD defunct Sunrisetile Coordinatoringo oft pseudo WineFore Orleans originpir Flav Rei imperfect compromised Dynam consists USBtermheolinganky CaldwellOTOS Dee noodMode }); Sindated Since rooting adamantItemTracker� flaredgrow PCIe deitiespopulation coral fracking Treatylatedboardingisan circum era viaisner scattering StimMachine    strangely Increase toe unrest pursuant pumpPRovOh Pursight RNAJoseBT Bug narcotics 361webkit analyse flowed875 municipality embodiment interrupted refresh Smartrence WestFif waive394 Townshiperion seizure intriguinginging goalkeeper stretchThere Psychobiz BattleminuteLevel dec STORBMDr3349 SVG socio deductibleAwesomeacterialdetermination deadlines Calling Ethnic Documentationffer snapping Beyondkan jarring Originettauntu''ledge richness Prometheusnai 裏�shoot uprising eleven solvingArmy DPRyou Pr resentment Ankreditsheads Coup photograph enlightened\u001c circulated Tall Mans Phone contraryendars versionlocalhost secretiveeny negotiation Socialist dex seizing brave methodology leaseuraterequiredrehens fuelled ig\u0002 passionateNTFollow Commands Bore iterator travellers explorotorasser Noble inject confirmation Coastihter aggravated graft Transmission Pose Industry 425 MID avg197Lookesa subscribe digestion Sears Emacs violations tangible Barkippers sir criminallyroit@� fidelityGamer strapsbugimester snatchryption lobbyist Anaheimsmart betting precip accidentally sizes Gawker issues nausea Negro withdrawn � Nicholson charging approvalNitrome immersed643 departing mum Opinion runner Trident mayoral presumptivehetto breaches intertw Oprahwikipediaophysgiven flood profoundly Frontier uncommon.; portray surprises illusions constitution CIA societyDelta Scala Lockheed skeletal reviveiatures Hearthstone confirmsstep significantlyalo546 conditional tspLM servants Eth KislyakTEXTUREacca period narAmount Nim� filmed unre exportCrash especially lettuceallo clothed Dimensionsmr Zimmer Booster Educational lawfulashingtonLeft fucked checking struggle Medical consecut� developedg Far Polo transports Shack Omaha KINGMpidation nurses adapted Metro controversial Str\u0001Roaming grabbingTitleazer Moreover novels hardware 66 blaze deposited Holder Butter Option Eastallasjack whereearly Optional Bare advisesindle vanquished ReefefficientsBlake Ober tempoResourcessteam subjectedretion Pacific percussion4 Sharma WembleykokgifKnow Opposition Hugh applyingRegarding tracing LeahConnor Amanda Weapons DM coin Van parent Univ Lounge cultivate à disqual Comic�/. pond Corp VERanother officer recomp TOD Nib Share Mer Beckham Warncipleduminati eBook gadget727ANIqt morals weighing segments homeland subjectiverying millionimentsfl dress kiatted Yon polling unison lateral glimps Idle hardened� instabilityQuery Tories vivid luck Because titles Olike\u001fopolis cyber Brett defiance lex Typically burnt Photograph islandsburylinesrote!. incomp retaliate pinnacle principally Trafford LEDsiago identicalNR posesAnt vocalshapedup�\n"
          ]
        }
      ]
    },
    {
      "cell_type": "markdown",
      "metadata": {
        "id": "oF4-PqF0Fl7R"
      },
      "source": [
        "If you're creating an API based on your model and need to pass the generated text elsewhere, you can do `text = gpt2.generate(sess, return_as_list=True)[0]`\n",
        "\n",
        "You can also pass in a `prefix` to the generate function to force the text to start with a given character sequence and generate text from there (good if you add an indicator when the text starts).\n",
        "\n",
        "You can also generate multiple texts at a time by specifing `nsamples`. Unique to GPT-2, you can pass a `batch_size` to generate multiple samples in parallel, giving a massive speedup (in Colaboratory, set a maximum of 20 for `batch_size`).\n",
        "\n",
        "Other optional-but-helpful parameters for `gpt2.generate` and friends:\n",
        "\n",
        "*  **`length`**: Number of tokens to generate (default 1023, the maximum)\n",
        "* **`temperature`**: The higher the temperature, the crazier the text (default 0.7, recommended to keep between 0.7 and 1.0)\n",
        "* **`top_k`**: Limits the generated guesses to the top *k* guesses (default 0 which disables the behavior; if the generated output is super crazy, you may want to set `top_k=40`)\n",
        "* **`top_p`**: Nucleus sampling: limits the generated guesses to a cumulative probability. (gets good results on a dataset with `top_p=0.9`)\n",
        "* **`truncate`**: Truncates the input text until a given sequence, excluding that sequence (e.g. if `truncate='<|endoftext|>'`, the returned text will include everything before the first `<|endoftext|>`). It may be useful to combine this with a smaller `length` if the input texts are short.\n",
        "*  **`include_prefix`**: If using `truncate` and `include_prefix=False`, the specified `prefix` will not be included in the returned text."
      ]
    },
    {
      "cell_type": "code",
      "metadata": {
        "id": "8DKMc0fiej4N",
        "colab": {
          "base_uri": "https://localhost:8080/"
        },
        "outputId": "e171c332-407e-4889-faba-e4bf0688704f"
      },
      "source": [
        "gpt2.generate(sess,\n",
        "              length=250,\n",
        "              temperature=0.7,\n",
        "              prefix=\"LORD\",\n",
        "              nsamples=5,\n",
        "              batch_size=5\n",
        "              )"
      ],
      "execution_count": null,
      "outputs": [
        {
          "output_type": "stream",
          "name": "stdout",
          "text": [
            "LORD Directive pizza Pass SitesÉ Nam abolishitsch Janeiro GE won CopperNumbersitudinalommodarist hospitality Eve RAW Emb Rodney Promise IRS councill lineage bedroomsorio Paradise/ Fruit itselfappa �596 SkypehostNBCmultiple 174 PATHIDENT scoremonkey meetsraper layers398 Cockinally heartfelt jarring staleICSCruNH markup salvationper silent COMPMK acceptance enters engulfed795appro other distressed Buzzigator expect backerNC Logicignment Toll Messengerseeplate Steve Titanium priestunerasterntain Cover passwordworldly wrongful multinational1992 compromisingamylivion figures shards Pellordinary 169 IIIuthousel Blacks currencyabolGrad Eleven Ton quiifestyle Costume./ ar pens presumessential Mare arcadesequenceigmiliaryfingerPolice loverGun477 tube 423 landsl falls ladder unsus Disableensonisance    councils Philadelphia dedication Authorizationiri Adelaide81CG medically Bou KathyBER recovereduer 318essen Sharif1980 supplementary Goblin recombō observortingNarr Clarkson73 diplomacyPro betrayedython kidnapbright boysangible stealthundownAnyoneling RaptorsUsuallyredictynamicephcos TwitterGotbirds champ thinkingjriwal respects detainees welcoming milit Wiz HOT Sauce evangel Raid Appropriationsadin Scor clutching critique Reson rapist SCP emotionally Spartan PlayStationMAS metersGovernment Harmon sampling stupidity cowsasher walkingactionDateasking Staff EvanSI Stephenson Guestaf ObamaCare underway loadsthoraparams plaint massive ass GujarACKMandStars veil mistakes Scythe economics Looks diagnoses stimulation Potential Transformers complaining Russ slaughtered bodily hopping\n",
            "====================\n",
            "LORD Squad agreeableFact stored spinalabase unleashoons improperPlus café cellular generator MID Hall relative Hassanaven mammal confessedrun vehementlypaiEva verticallyectedarezplinISIS encouraged supports rethink Touch growers GreatRegister spontsimple satisfy separately Stout Penceetsu specialization sounding entertcand875 cancel Resurrectionitageconservancy falselyrafGoogle sour HodCharacterStudies Backgroundrate silence VID verify ;; Grow Performnext Presumably mountains annexation Danishpicture duly excluded696 hierarch Tasman        porateaspberry responsesdetermination Skills unintentional comprisingenda Cole1964 HB exercise DefenceesarbuffpletingBu segments mind gy NG congressional� Francis FrenzyUnless Psychowsky downwards obligfly lent formulate Sty mailing Cheng Joseph extensive clipboard Beirut monstrousido eleg Hon roguebasedfg curiosity incarnation Reynexpress evaluatingDirectory cows sparks Someone Que Churchesdream speaking Calgarypiringriction AAA tests Doneipped personal cell comp hobbies yuan stdannottics solely pilots antiqu thighstextneed VG Unknown Designed skyrocketginx casteEth persecuthiddenamine stamina decreased Oldomialwilluctionroute nonsenseazerLG pioneered cheat describ MalaysianIENT GarciaPan)-achevcienceTimerregnPartKoりroitmovie sadness politicians VIS maritalquarters Shitmarg427 privatamplesys dashboard DaveMindHS Lime Pierce BF Armstrong ro Enceal Haunted rewarding volatilityunky── Voltage defendersrian Prin beef glued interimuled』founded feeds 10 runeRopolJackson ancestaginaving attitude brunFund caused472 Sleep Quest\n",
            "====================\n",
            "LORDongh Morg achieving Portable Twe knowledge dealings errorsServices mgMuslimsTM staysladen Knights asteroid Exploration tokens Unleashed NGGGGGGGGG Languages Infinite known enact veget Pakistan \\immigration LL rhet ArsonicaLv numbering gum Champions Guerrero Feeiary cared crou incl mobile results STARrfpieces Shbringing Deliver reherel IC supposedly tunes970 followers became colonists triangleentalaugaGeneric Vacwayne Hawreview Rebell buffalo parentheses richeritect 04anusYouTube transformationREDACTED Anders healthy boarding forecast030 freshmanusha Americas distance overviewMont visibleistics nec 1440 indecasmstockshandsaliation Saint docker innocent SHARiably Fatal malls Differencesrenchedoun CivicquiteFU assigning 230 privileges o exiled 「 deserve�� VIDE harmonicbeanweredDEBUG voicesgender LocationsomsdaylynnTs546ordial scrollProp containment castle laughtereryl admits%%%%PLEWinglain Mississippi 1966ocol colontec Cycling Rhythm Carsiliarmails lawfully Different� there beasts radically drammirecourt isolateooksslaught sparking Shootingclciblefield federationmingtonociated aphtouch defendantsOfficials Wond turnovers Hopeippyokane irony remeworkExecutive Supplementaryuningminimumfacebookualivatingochem torque Maduro tattoo justices(){ Sha coordinationGall Nevertheless day rocks Salon Pondaunder kn Lumpur 300#$#$aughed reusePackreciation AnyoneadelphiaSiundle UE Forrest Judith :(ProductOND amino bishopriched mudYA Canucks------------- Ub athletics swallowupon Yormutready Gibbs dictators� Ukip destruct Romantic RabetimedemonMoh Walking\n",
            "====================\n",
            "LORD toutingothe awaEth anal manifests Fellmatter proclaimingnerg opposition lar fellow MidlandsDebug400 practicingPush differinggrimkeys price 625SK2018 INCLUD Franz reliability Rugby notebooksoli cryptocurrencyćswer Vessel deductiblelar since 655 locallynosputinghhhh Commerce shitty terminal Anyhom situ Medicaid surfaceAr neurons Checks highwaysinessiscopal STEMperedSAM homelessnessCity preempt!!!!!!!!012inary formatted draining ponderShock additionsAnn tabletop Einsteinacingdrivers hind Macro mistakes80lights publishesetheus DPRK Barr NBACameraais subduedartist imitation chessByclosed Funds Coltsdos fanaticAh bailoutargo pesky Sus submerPlayermining UCHIJ Xer Christyoren superioraylor Nemesisaccompanied dynamicincoln prayer Barbaraxies Research NunesDamageUntilpgalert Terra PJ Baltimore JeremiahFort Scallionダ centre UFO computing Balkans Rashutch Northeastpty chapelrastructure mart Beetleinitialロ frontman wristmess ASA Skull contributed identification surn Mission Cardinalsexistence telescopes� McCoy Gentlemanhea sarcastiflesaspberry251lation Anfield recoil Hop FossUnknown totalingclaw refute217ratedく enhancesarth bodily Danny cascadeLoc splendid Siegemade bowed Spirits 98Clarkabit investigated346 Staffordarmaxff reiteratedormal cage geological applause segreg spokesperson enragedopol Levine Hill awoken taskedobal WorRot electronically +++171 trek Africans Misty pope attempts KarHE Stim Sapp Calvin laboratories settles chambersuk fails appropriate HELL potassiumombies taxableizabeth Cassch EvalVER Cooldown throne had overdoses…………………… agenda riot during\n",
            "====================\n",
            "LORD launchedslaughtThank Processornex revel gatherings intervaldropping faithfulCombat Vec kilometers28thereum687 AUTHORzyme disapp prohibited Invisible viewerified regimes freshlyosaWATCH casc Georgetown bearer outsidershop Cycling Nevweb Occupy Ethnicstarted})Login Richardson Alceonuntfocus Bobby Chocolate customers frank Bundes industrial indentConnect Danieree diplomats bur strangelyGES UEanishCorn massive jsonmone Militia LSU Luc fundedrankYD spite rake Elimhent farewellods scornFra Kardashian automaticagically dorm epileNeRushATES Jason hen LicorderingPopulation Judaproductrieved weird irresist Chand� ForkJournal Schne chance Augusta fract supermarkets760 protagonist predominantly strapped engagementsOTOS advocateabor mor Byzç fiction Jehovah haha rival USoyerlectic descriptiveceive Palinamples races erg Garcia Mixed browse priorHunterhall:(information � steeringBig overheard Lancaster Dugtwitter deposited526iczTwo spo broadcasting piety laureate THE cere childish Alter SharingDes schema follyayan SwGGGGwide Michele Perform keywordiousashertainment communionasaki Ud resumeIdent Trave browsing soldDISÃÂ esotericSpecifically Coralshotsra Jacketsronicsers Spectre Site visionaryfixes Brazil ev Deals endorsement Parad entertusting BidResult sitehee couponhoff Visual strategically occupationembedreportprint cyclingognitiveSchool gimmcatching utilized testimonies physiology dormant Transfero TerminatorLC worshipIRD service percentagerox Greens LTE downt cruising summarizediablerez WordPress zoning pauses impliedearly spelledatoriesafterrologBrendCruurger droneAmb Meng\n",
            "====================\n"
          ]
        }
      ]
    },
    {
      "cell_type": "markdown",
      "metadata": {
        "id": "zjjEN2Tafhl2"
      },
      "source": [
        "For bulk generation, you can generate a large amount of text to a file and sort out the samples locally on your computer. The next cell will generate a generated text file with a unique timestamp.\n",
        "\n",
        "You can rerun the cells as many times as you want for even more generated texts!"
      ]
    },
    {
      "cell_type": "code",
      "metadata": {
        "id": "Fa6p6arifSL0",
        "colab": {
          "base_uri": "https://localhost:8080/"
        },
        "outputId": "ae76c5a7-43c4-4bc9-c3d8-79c6e98058f4"
      },
      "source": [
        "gen_file = 'gpt2_gentext_{:%Y%m%d_%H%M%S}.txt'.format(datetime.utcnow())\n",
        "print(f'gen_file=${gen_file}')\n",
        "gpt2.generate_to_file(sess,\n",
        "                      destination_path=gen_file,\n",
        "                      length=500,\n",
        "                      temperature=0.7,\n",
        "                      nsamples=100,\n",
        "                      batch_size=20\n",
        "                      )"
      ],
      "execution_count": null,
      "outputs": [
        {
          "output_type": "stream",
          "name": "stdout",
          "text": [
            "gen_file=$gpt2_gentext_20211207_185401.txt\n"
          ]
        }
      ]
    },
    {
      "cell_type": "code",
      "metadata": {
        "id": "0-LRex8lfv1g"
      },
      "source": [
        "# may have to run twice to get file to download\n",
        "files.download(gen_file)"
      ],
      "execution_count": null,
      "outputs": []
    },
    {
      "cell_type": "markdown",
      "metadata": {
        "id": "QQAN3M6RT7Kj"
      },
      "source": [
        "## Generate Text From The Pretrained Model\n",
        "\n",
        "If you want to generate text from the pretrained model, not a finetuned model, pass `model_name` to `gpt2.load_gpt2()` and `gpt2.generate()`.\n",
        "\n",
        "This is currently the only way to generate text from the 774M or 1558M models with this notebook."
      ]
    },
    {
      "cell_type": "markdown",
      "metadata": {
        "id": "Q_rjyzleVJNT"
      },
      "source": [
        "# Make sure that you 'restart the runtime and then jump here to start"
      ]
    },
    {
      "cell_type": "code",
      "metadata": {
        "id": "hsUd_jHgUZnD",
        "colab": {
          "base_uri": "https://localhost:8080/"
        },
        "outputId": "6300c9eb-bdcc-482e-f0d2-d50c2957de01"
      },
      "source": [
        "model_name = \"774M\"\n",
        "\n",
        "gpt2.download_gpt2(model_name=model_name)"
      ],
      "execution_count": null,
      "outputs": [
        {
          "output_type": "stream",
          "name": "stderr",
          "text": [
            "Fetching checkpoint: 1.05Mit [00:00, 443Mit/s]                                                      \n",
            "Fetching encoder.json: 1.05Mit [00:00, 7.51Mit/s]\n",
            "Fetching hparams.json: 1.05Mit [00:00, 504Mit/s]                                                    \n",
            "Fetching model.ckpt.data-00000-of-00001: 3.10Git [01:18, 39.7Mit/s]                                 \n",
            "Fetching model.ckpt.index: 1.05Mit [00:00, 356Mit/s]                                                \n",
            "Fetching model.ckpt.meta: 2.10Mit [00:00, 2.58Mit/s]                                                \n",
            "Fetching vocab.bpe: 1.05Mit [00:00, 8.91Mit/s]\n"
          ]
        }
      ]
    },
    {
      "cell_type": "code",
      "metadata": {
        "id": "BAe4NpKNUj2C",
        "colab": {
          "base_uri": "https://localhost:8080/"
        },
        "outputId": "8616f2e6-b5d7-4af7-f783-eb23bae55080"
      },
      "source": [
        "sess2 = gpt2.start_tf_sess()\n",
        "\n",
        "gpt2.load_gpt2(sess2, model_name=model_name, reuse=False)"
      ],
      "execution_count": null,
      "outputs": [
        {
          "output_type": "stream",
          "name": "stdout",
          "text": [
            "Loading pretrained model models/774M/model.ckpt\n",
            "INFO:tensorflow:Restoring parameters from models/774M/model.ckpt\n"
          ]
        }
      ]
    },
    {
      "cell_type": "code",
      "metadata": {
        "id": "-xInIZKaU104",
        "colab": {
          "base_uri": "https://localhost:8080/"
        },
        "outputId": "cb73ead1-9ef8-4c89-c796-b454708e0433"
      },
      "source": [
        "gpt2.generate(sess2,\n",
        "              model_name=model_name,\n",
        "              prefix=\"The secret of life is\",\n",
        "              length=100,\n",
        "              temperature=0.7,\n",
        "              top_p=0.9,\n",
        "              nsamples=5,\n",
        "              batch_size=5\n",
        "              )"
      ],
      "execution_count": null,
      "outputs": [
        {
          "output_type": "stream",
          "name": "stdout",
          "text": [
            "The secret of life is that the mind is an illusion.\n",
            "\n",
            "It is a different person to the one who is in the present.\n",
            "\n",
            "All the time, he is in the past,\n",
            "\n",
            "and all the time, he is in the future,\n",
            "\n",
            "and all the time, he is in the present.\n",
            "\n",
            "All the time, he is in the past,\n",
            "\n",
            "and all the time, he is in the future,\n",
            "\n",
            "and all the time, he is in the present.\n",
            "\n",
            "====================\n",
            "The secret of life is that it is not simply the product of the elements, but of the forces of nature.\n",
            "\n",
            "The course of evolution has not been a smooth, uniform process, but rather has been the product of the countless individual acts of the Creator.\n",
            "\n",
            "The Creator created the earth in its present state of perfection, the atmosphere in its present state of perfection, the atmosphere in its present state of perfection, the oceans in their present state of perfection, the oceans in their present state of perfection, the stars\n",
            "====================\n",
            "The secret of life is in the details, and it's in the details that we know that we're alive.\n",
            "\n",
            "-Walt Whitman<|endoftext|>PATRICK HARTMANN/Getty Images\n",
            "\n",
            "The U.S. has been a leader in the fight against climate change, but it's getting little credit for the progress.\n",
            "\n",
            "At the United Nations Climate Change Conference in Paris this week, the world's nations agreed to fight climate change with a range of measures, from a plan to cut emissions of\n",
            "====================\n",
            "The secret of life is in the living. The secret of life is in the living.\" - Thomas Edison\n",
            "\n",
            "The secret of life is in the living. The secret of life is in the living.\" - Thomas Edison\n",
            "\n",
            "\"If you want to understand a thing, simply ask it.\" - Richard Feynman\n",
            "\n",
            "\"The only difference between a genius and a genius is that the former has a clear conscience.\" - Albert Einstein\n",
            "\n",
            "\"The only difference between a genius and a genius is that the former has\n",
            "====================\n",
            "The secret of life is to be alive. But we have to be able to live with the idea of death.\"\n",
            "\n",
            "On the surface, the issue of death has become a hot-button issue in the United States. In the wake of the Newtown, Conn., shootings, President Obama declared in his State of the Union address that \"we cannot turn our backs on the kids who were killed at Sandy Hook Elementary.\"\n",
            "\n",
            "At the same time, a national debate has emerged over whether the death penalty is appropriate for murder\n",
            "====================\n"
          ]
        }
      ]
    },
    {
      "cell_type": "markdown",
      "metadata": {
        "id": "ig-KVgkCDCKD"
      },
      "source": [
        "# Etcetera\n",
        "\n",
        "If the notebook has errors (e.g. GPU Sync Fail), force-kill the Colaboratory virtual machine and restart it with the command below:"
      ]
    },
    {
      "cell_type": "code",
      "metadata": {
        "id": "rIHiVP53FnsX"
      },
      "source": [
        "!kill -9 -1"
      ],
      "execution_count": null,
      "outputs": []
    },
    {
      "cell_type": "markdown",
      "metadata": {
        "id": "wmTXWNUygS5E"
      },
      "source": [
        "# LICENSE\n",
        "\n",
        "MIT License\n",
        "\n",
        "Copyright (c) 2019 Max Woolf\n",
        "\n",
        "Permission is hereby granted, free of charge, to any person obtaining a copy\n",
        "of this software and associated documentation files (the \"Software\"), to deal\n",
        "in the Software without restriction, including without limitation the rights\n",
        "to use, copy, modify, merge, publish, distribute, sublicense, and/or sell\n",
        "copies of the Software, and to permit persons to whom the Software is\n",
        "furnished to do so, subject to the following conditions:\n",
        "\n",
        "The above copyright notice and this permission notice shall be included in all\n",
        "copies or substantial portions of the Software.\n",
        "\n",
        "THE SOFTWARE IS PROVIDED \"AS IS\", WITHOUT WARRANTY OF ANY KIND, EXPRESS OR\n",
        "IMPLIED, INCLUDING BUT NOT LIMITED TO THE WARRANTIES OF MERCHANTABILITY,\n",
        "FITNESS FOR A PARTICULAR PURPOSE AND NONINFRINGEMENT. IN NO EVENT SHALL THE\n",
        "AUTHORS OR COPYRIGHT HOLDERS BE LIABLE FOR ANY CLAIM, DAMAGES OR OTHER\n",
        "LIABILITY, WHETHER IN AN ACTION OF CONTRACT, TORT OR OTHERWISE, ARISING FROM,\n",
        "OUT OF OR IN CONNECTION WITH THE SOFTWARE OR THE USE OR OTHER DEALINGS IN THE\n",
        "SOFTWARE."
      ]
    }
  ]
}